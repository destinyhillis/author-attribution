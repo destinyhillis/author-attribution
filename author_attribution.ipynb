{
    "cells": [
        {
            "cell_type": "markdown",
            "metadata": {
                "id": "EIYBUIaHM5MV"
            },
            "source": [
                "# Author Attribution Using Stylometry"
            ]
        },
        {
            "cell_type": "markdown",
            "metadata": {
                "id": "oxbb4W9WM-Wr"
            },
            "source": [
                "## Setup\n",
                "Install the necessary packages, import the required libraries, and download the NLTK datasets to ensure proper execution of the notebook. Additionally, optional code blocks are provided for enabling GPU support when running on Google Colab."
            ]
        },
        {
            "cell_type": "code",
            "execution_count": null,
            "metadata": {
                "colab": {
                    "base_uri": "https://localhost:8080/"
                },
                "collapsed": true,
                "id": "lL_Bxxe9NAS2",
                "outputId": "26da42b1-5965-4946-f8bd-e3075d7cac11"
            },
            "outputs": [],
            "source": [
                "%pip install 'accelerate>=0.26.0'\n",
                "%pip install huggingface_hub[hf_xet]\n",
                "%pip install matplotlib\n",
                "%pip install nltk\n",
                "%pip install numpy\n",
                "%pip install pandas\n",
                "%pip install scikit-learn\n",
                "%pip install seaborn\n",
                "%pip install torch\n",
                "%pip install transformers[torch]"
            ]
        },
        {
            "cell_type": "code",
            "execution_count": null,
            "metadata": {
                "id": "qRR6uGKrNEHz"
            },
            "outputs": [],
            "source": [
                "from collections import Counter\n",
                "from nltk import pos_tag\n",
                "from nltk.corpus import gutenberg\n",
                "from nltk.tokenize import sent_tokenize, word_tokenize\n",
                "from sklearn.ensemble import RandomForestClassifier\n",
                "from sklearn.metrics import accuracy_score, classification_report, confusion_matrix, precision_recall_fscore_support\n",
                "from sklearn.model_selection import GridSearchCV, train_test_split\n",
                "from sklearn.pipeline import Pipeline\n",
                "from sklearn.preprocessing import StandardScaler\n",
                "from sklearn.svm import SVC\n",
                "from transformers import AutoModel, AutoTokenizer\n",
                "import matplotlib.pyplot as plt\n",
                "import nltk\n",
                "import numpy as np\n",
                "import seaborn as sns\n",
                "import torch"
            ]
        },
        {
            "cell_type": "code",
            "execution_count": null,
            "metadata": {
                "colab": {
                    "base_uri": "https://localhost:8080/"
                },
                "collapsed": true,
                "id": "d36lIUyjNJxk",
                "outputId": "87500dad-08f6-427f-8971-a24cc85a92c9"
            },
            "outputs": [],
            "source": [
                "nltk.download('gutenberg')\n",
                "nltk.download('punkt')\n",
                "nltk.download('punkt_tab')\n",
                "nltk.download('averaged_perceptron_tagger')\n",
                "nltk.download('averaged_perceptron_tagger_eng')"
            ]
        },
        {
            "cell_type": "markdown",
            "metadata": {
                "id": "aRn_W692GrRi"
            },
            "source": [
                "#### Enabling GPU for Google Colab"
            ]
        },
        {
            "cell_type": "code",
            "execution_count": null,
            "metadata": {
                "colab": {
                    "base_uri": "https://localhost:8080/"
                },
                "id": "kRfOsnCUIKGJ",
                "outputId": "f456fa93-0a95-4a10-dbea-402825944452"
            },
            "outputs": [],
            "source": [
                "!apt install -y libcudnn8"
            ]
        },
        {
            "cell_type": "markdown",
            "metadata": {},
            "source": [
                "##### Test if GPU is Connected"
            ]
        },
        {
            "cell_type": "code",
            "execution_count": null,
            "metadata": {
                "colab": {
                    "base_uri": "https://localhost:8080/"
                },
                "id": "zeoRXzOWGYq4",
                "outputId": "d42faf9e-1a17-4e6f-fe0a-b12b62eba7e6"
            },
            "outputs": [],
            "source": [
                "import tensorflow as tf\n",
                "device_name = tf.test.gpu_device_name()\n",
                "if device_name != '/device:GPU:0':\n",
                "  raise SystemError('GPU device not found')\n",
                "print('Found GPU at: {}'.format(device_name))"
            ]
        },
        {
            "cell_type": "markdown",
            "metadata": {
                "id": "5Fh_1lBRNMwr"
            },
            "source": [
                "## Data Loader\n",
                "This section is responsible for preparing text data from the Gutenberg corpus for analysis. Functions include:\n",
                "\n",
                "- `get_gutenberg_fileids()`: retrieves file IDs \n",
                "- `get_samples()`: extracts text samples"
            ]
        },
        {
            "cell_type": "markdown",
            "metadata": {
                "id": "uuCzGFsZNPvW"
            },
            "source": [
                "### Get File IDs\n",
                "The `get_gutenberg_fileids()` function generates a list of file IDs, which were manually divided into smaller subsets to ensure efficient execution of embedding and training processes."
            ]
        },
        {
            "cell_type": "code",
            "execution_count": null,
            "metadata": {
                "id": "Y1pbCKJwNOx9"
            },
            "outputs": [],
            "source": [
                "def get_gutenberg_fileids():\n",
                "    \"\"\"\n",
                "    Get the list of file IDs from the Gutenberg corpus.\n",
                "\n",
                "    Args:\n",
                "        None\n",
                "\n",
                "    Returns:\n",
                "        list: A list of file IDs available in the Gutenberg corpus.\n",
                "    \"\"\"\n",
                "    file_ids = gutenberg.fileids()\n",
                "\n",
                "    return file_ids"
            ]
        },
        {
            "cell_type": "code",
            "execution_count": null,
            "metadata": {
                "colab": {
                    "base_uri": "https://localhost:8080/"
                },
                "collapsed": true,
                "id": "pqGA-LtBNWUP",
                "outputId": "0426381a-b7b1-4c8e-c4f0-00627dc1ffbe"
            },
            "outputs": [
                {
                    "data": {
                        "text/plain": [
                            "['austen-emma.txt',\n",
                            " 'austen-persuasion.txt',\n",
                            " 'austen-sense.txt',\n",
                            " 'bible-kjv.txt',\n",
                            " 'blake-poems.txt',\n",
                            " 'bryant-stories.txt',\n",
                            " 'burgess-busterbrown.txt',\n",
                            " 'carroll-alice.txt',\n",
                            " 'chesterton-ball.txt',\n",
                            " 'chesterton-brown.txt',\n",
                            " 'chesterton-thursday.txt',\n",
                            " 'edgeworth-parents.txt',\n",
                            " 'melville-moby_dick.txt',\n",
                            " 'milton-paradise.txt',\n",
                            " 'shakespeare-caesar.txt',\n",
                            " 'shakespeare-hamlet.txt',\n",
                            " 'shakespeare-macbeth.txt',\n",
                            " 'whitman-leaves.txt']"
                        ]
                    },
                    "execution_count": 8,
                    "metadata": {},
                    "output_type": "execute_result"
                }
            ],
            "source": [
                "get_gutenberg_fileids()"
            ]
        },
        {
            "cell_type": "markdown",
            "metadata": {},
            "source": [
                "### Dividing the Dataset\n",
                "\n",
                "To manage the size of the Gutenberg corpus and avoid exceeding runtime limits, the dataset was divided into smaller subsets. Each subset contains texts from three distinct authors and is designed to be processed within 45 minutes or less on a GPU. For testing purposes, the following file IDs are recommended as they represent shorter texts in the corpus:\n",
                "\n",
                "```python\n",
                "file_ids = [['blake-poems.txt', 'shakespeare-macbeth.txt']]\n",
                "```"
            ]
        },
        {
            "cell_type": "code",
            "execution_count": null,
            "metadata": {},
            "outputs": [],
            "source": [
                "file_ids1 = ['austen-emma.txt', 'chesterton-brown.txt', 'shakespeare-hamlet.txt']\n",
                "file_ids2 = ['bible-kjv.txt', 'blake-poems.txt', 'bryant-stories.txt']\n",
                "file_ids3 = ['burgess-busterbrown.txt', 'carroll-alice.txt', 'chesterton-ball.txt']\n",
                "file_ids4 = ['austen-persuasion.txt', 'chesterton-thursday.txt', 'shakespeare-macbeth.txt']\n",
                "file_ids5 = ['melville-moby_dick.txt', 'milton-paradise.txt', 'shakespeare-caesar.txt']\n",
                "file_ids6 = ['austen-sense.txt', 'edgeworth-parents.txt', 'whitman-leaves.txt']"
            ]
        },
        {
            "cell_type": "markdown",
            "metadata": {
                "id": "6p9eLyNONgZ3"
            },
            "source": [
                "### Get Text Samples\n",
                "The `get_samples()` function splits the corpus into manageable chunks, removes metadata (headers and footers), tokenizes the text, and creates overlapping word chunks, associating each chunk with its corresponding author/file ID. This prepares the data for feature extraction and model training."
            ]
        },
        {
            "cell_type": "code",
            "execution_count": 9,
            "metadata": {
                "id": "VZPhixKMNi_P"
            },
            "outputs": [],
            "source": [
                "def get_samples(file_ids, chunk_size=2000, overlap=0):\n",
                "    \"\"\"\n",
                "    Extract text samples from the corpus.\n",
                "\n",
                "    Args:\n",
                "        chunk_size: Size of each text sample in words\n",
                "        overlap: Number of words to overlap between consecutive chunks\n",
                "\n",
                "    Returns:\n",
                "        List of (text, author) tuples\n",
                "    \"\"\"\n",
                "    samples = []\n",
                "\n",
                "    for file_id in file_ids:\n",
                "        text = gutenberg.raw(file_id)\n",
                "\n",
                "        # Clean text by removing metadata (usually at the beginning and end)\n",
                "        # This is a simple approach - might need refinement for specific corpora\n",
                "        lines = text.split('\\n')\n",
                "        start_idx = 0\n",
                "        end_idx = len(lines)\n",
                "\n",
                "        # Find start of main text (skip headers)\n",
                "        for i, line in enumerate(lines):\n",
                "            if \"*** START OF\" in line:\n",
                "                start_idx = i + 1\n",
                "                break\n",
                "\n",
                "        # Find end of main text (skip footers)\n",
                "        for i, line in enumerate(lines[::-1]):\n",
                "            if \"*** END OF\" in line:\n",
                "                end_idx = len(lines) - i - 1\n",
                "                break\n",
                "\n",
                "        clean_text = ' '.join(lines[start_idx:end_idx])\n",
                "\n",
                "        # Split into chunks\n",
                "        words = word_tokenize(clean_text)\n",
                "        step = chunk_size - overlap\n",
                "\n",
                "        for i in range(0, len(words) - chunk_size + 1, step):\n",
                "            chunk = ' '.join(words[i:i+chunk_size])\n",
                "            samples.append((chunk, file_id))\n",
                "\n",
                "    return samples"
            ]
        },
        {
            "cell_type": "markdown",
            "metadata": {
                "id": "eLQTAZljNoJr"
            },
            "source": [
                "## Style Feature Extractor\n",
                "This section focuses on extracting stylometric features from text at three levels: \n",
                "- character\n",
                "- word\n",
                "- syntax\n",
                "\n",
                "It includes functions for computing individual features and a unified function to aggregate all feature types."
            ]
        },
        {
            "cell_type": "markdown",
            "metadata": {
                "id": "sFiNUdURNqoz"
            },
            "source": [
                "### Character Features\n",
                "Computes the following features for a given text sample:\n",
                "- average word length\n",
                "- punctuation frequency\n",
                "- uppercase frequency\n",
                "- digit frequency\n",
                "- n-grams\n",
                "- top 5 bigrams and trigrams"
            ]
        },
        {
            "cell_type": "code",
            "execution_count": null,
            "metadata": {
                "id": "M4xkPH0KNr8J"
            },
            "outputs": [],
            "source": [
                "def extract_character_features(text):\n",
                "    \"\"\"\n",
                "    Extract character-level features.\n",
                "\n",
                "    Args:\n",
                "        text (str): The input text for feature extraction.\n",
                "\n",
                "    Returns:\n",
                "        dict: A dictionary containing character-level features such as average word length,\n",
                "              punctuation frequency, uppercase frequency, digit frequency, and top character n-grams.\n",
                "    \"\"\"\n",
                "    features = {}\n",
                "\n",
                "    # Average word length\n",
                "    words = word_tokenize(text.lower())\n",
                "    if words:\n",
                "        features['avg_word_length'] = sum(len(word) for word in words) / len(words)\n",
                "    else:\n",
                "        features['avg_word_length'] = 0\n",
                "\n",
                "    # Punctuation frequency\n",
                "    punct_count = sum(1 for char in text if char in \".,;:!?-\\\"'()[]{}\")\n",
                "    features['punct_freq'] = punct_count / len(text) if len(text) > 0 else 0\n",
                "\n",
                "    # Uppercase frequency\n",
                "    uppercase_count = sum(1 for char in text if char.isupper())\n",
                "    features['uppercase_freq'] = uppercase_count / len(text) if len(text) > 0 else 0\n",
                "\n",
                "    # Digit frequency\n",
                "    digit_count = sum(1 for char in text if char.isdigit())\n",
                "    features['digit_freq'] = digit_count / len(text) if len(text) > 0 else 0\n",
                "\n",
                "    # Character n-grams (bigrams and trigrams)\n",
                "    char_bigrams = [text[i:i+2] for i in range(len(text)-1)]\n",
                "    char_trigrams = [text[i:i+3] for i in range(len(text)-2)]\n",
                "\n",
                "    # Top 5 character bigrams and trigrams\n",
                "    if char_bigrams:\n",
                "        bigram_counts = Counter(char_bigrams)\n",
                "        for i, (bigram, _) in enumerate(bigram_counts.most_common(5)):\n",
                "            features[f'top_char_bigram_{i+1}'] = bigram\n",
                "\n",
                "    if char_trigrams:\n",
                "        trigram_counts = Counter(char_trigrams)\n",
                "        for i, (trigram, _) in enumerate(trigram_counts.most_common(5)):\n",
                "            features[f'top_char_trigram_{i+1}'] = trigram\n",
                "\n",
                "    return features"
            ]
        },
        {
            "cell_type": "markdown",
            "metadata": {
                "id": "tg_xPITPNwYj"
            },
            "source": [
                "### Word Features\n",
                "Computes the following features for a given text sample:\n",
                "- vocab richness\n",
                "- average sentence length\n",
                "- function work usage"
            ]
        },
        {
            "cell_type": "code",
            "execution_count": null,
            "metadata": {
                "id": "KdCXNjrmNxkT"
            },
            "outputs": [],
            "source": [
                "def extract_word_features(text):\n",
                "    \"\"\"\n",
                "    Extract word-level features.\n",
                "\n",
                "    Args:\n",
                "        text (str): The input text for feature extraction.\n",
                "\n",
                "    Returns:\n",
                "        dict: A dictionary containing word-level features such as vocabulary richness,\n",
                "              average sentence length, and function word frequencies.\n",
                "    \"\"\"\n",
                "    features = {}\n",
                "    words = word_tokenize(text.lower())\n",
                "\n",
                "    if not words:\n",
                "        return {'vocab_richness': 0, 'avg_sentence_length': 0}\n",
                "\n",
                "    # Vocab richness (type-token ratio)\n",
                "    features['vocab_richness'] = len(set(words)) / len(words)\n",
                "\n",
                "    # Average sentence length\n",
                "    sentences = sent_tokenize(text)\n",
                "    if sentences:\n",
                "        words_per_sentence = [len(word_tokenize(s)) for s in sentences]\n",
                "        features['avg_sentence_length'] = sum(words_per_sentence) / len(sentences)\n",
                "    else:\n",
                "        features['avg_sentence_length'] = 0\n",
                "\n",
                "    # Function word usage (common words like 'the', 'and', 'of', etc.)\n",
                "    function_words = ['the', 'and', 'of', 'to', 'a', 'in', 'that', 'is', 'was', 'for']\n",
                "    for word in function_words:\n",
                "        features[f'freq_{word}'] = words.count(word) / len(words)\n",
                "\n",
                "    return features"
            ]
        },
        {
            "cell_type": "markdown",
            "metadata": {
                "id": "ubJZubOZN2OM"
            },
            "source": [
                "### Syntax Features\n",
                "Computes the following features for a given text sample:\n",
                "- POS tag frequencies\n",
                "- count of main POS categories (nouns, verbs, adjectives, and adverbs)"
            ]
        },
        {
            "cell_type": "code",
            "execution_count": null,
            "metadata": {
                "id": "ekiV29NuN3Za"
            },
            "outputs": [],
            "source": [
                "def extract_syntax_features(text):\n",
                "    \"\"\"\n",
                "    Extract syntax-level features.\n",
                "\n",
                "    Args:\n",
                "        text (str): The input text for feature extraction.\n",
                "\n",
                "    Returns:\n",
                "        dict: A dictionary containing frequencies of main POS categories (nouns, verbs, adjectives, adverbs).\n",
                "    \"\"\"\n",
                "    features = {}\n",
                "\n",
                "    # POS tag frequencies\n",
                "    words = word_tokenize(text)\n",
                "    if not words:\n",
                "        return {'noun_freq': 0, 'verb_freq': 0, 'adj_freq': 0, 'adv_freq': 0}\n",
                "\n",
                "    pos_tags = pos_tag(words)\n",
                "    pos_counts = Counter(tag for _, tag in pos_tags)\n",
                "\n",
                "    # Calculate frequencies of main POS categories\n",
                "    total_tags = len(pos_tags)\n",
                "    features['noun_freq'] = sum(pos_counts[tag] for tag in pos_counts if tag.startswith('NN')) / total_tags\n",
                "    features['verb_freq'] = sum(pos_counts[tag] for tag in pos_counts if tag.startswith('VB')) / total_tags\n",
                "    features['adj_freq'] = sum(pos_counts[tag] for tag in pos_counts if tag.startswith('JJ')) / total_tags\n",
                "    features['adv_freq'] = sum(pos_counts[tag] for tag in pos_counts if tag.startswith('RB')) / total_tags\n",
                "\n",
                "    return features"
            ]
        },
        {
            "cell_type": "markdown",
            "metadata": {
                "id": "CPFawUMZN7ma"
            },
            "source": [
                "### All Features\n",
                "An aggregation function to combine all features into a unified representation to enable detailed analysis of writing style.\n"
            ]
        },
        {
            "cell_type": "code",
            "execution_count": null,
            "metadata": {
                "id": "iISJAtQpN9by"
            },
            "outputs": [],
            "source": [
                "def extract_all_features(text):\n",
                "    \"\"\"\n",
                "    Extract all stylometric features from text.\n",
                "\n",
                "    Args:\n",
                "        text (str): The input text for feature extraction.\n",
                "\n",
                "    Returns:\n",
                "        dict: A dictionary containing combined character, word, and syntax features.\n",
                "    \"\"\"\n",
                "    character_features = extract_character_features(text)\n",
                "    word_features = extract_word_features(text)\n",
                "    syntax_features = extract_syntax_features(text)\n",
                "\n",
                "    # Combine all features\n",
                "    all_features = {**character_features, **word_features, **syntax_features}\n",
                "\n",
                "    return all_features"
            ]
        },
        {
            "cell_type": "markdown",
            "metadata": {
                "id": "47YjgmV1OBlg"
            },
            "source": [
                "## Transformer Feature Extractor\n",
                "This section uses the pre-trained transformer model  BERT to generate embeddings for text samples. The `extract_embeddings()` function tokenizes text, processes it through the transformer model, and extracts embeddings from the model's output..\n"
            ]
        },
        {
            "cell_type": "code",
            "execution_count": null,
            "metadata": {
                "id": "1VYzzMtgODpC"
            },
            "outputs": [],
            "source": [
                "def extract_embeddings(samples, max_length=512):\n",
                "    \"\"\"\n",
                "    Extract embeddings from transformer model.\n",
                "\n",
                "    Args:\n",
                "        samples: List of text samples\n",
                "        max_length: Maximum token length for the model\n",
                "\n",
                "    Returns:\n",
                "        Numpy array of embeddings\n",
                "    \"\"\"\n",
                "    model_name='bert-base-uncased'\n",
                "    tokenizer = AutoTokenizer.from_pretrained(model_name)\n",
                "    model = AutoModel.from_pretrained(model_name)\n",
                "\n",
                "    embeddings = []\n",
                "\n",
                "    for sample in samples:\n",
                "        # Tokenize and prepare input\n",
                "        inputs = tokenizer(sample, return_tensors=\"pt\", padding=\"max_length\", truncation=True, max_length=max_length)\n",
                "\n",
                "        # Get model outputs\n",
                "        with torch.no_grad():\n",
                "            outputs = model(**inputs)\n",
                "\n",
                "        # Use the first token as the text representation\n",
                "        # Shape: [batch_size, hidden_size]\n",
                "        embedding = outputs.last_hidden_state[:, 0, :].numpy()\n",
                "        embeddings.append(embedding.flatten())\n",
                "\n",
                "    return np.array(embeddings)"
            ]
        },
        {
            "cell_type": "markdown",
            "metadata": {
                "id": "AgCuyGFqOISh"
            },
            "source": [
                "## Author Attributor\n",
                "This section implements pipelines for author attribution using two approaches: \n",
                "- feature-based stylometry\n",
                "- transformer-based embeddings\n",
                "\n",
                "It encompasses data preparation, model training, prediction, and evaluation, providing a comparative analysis of their performance, accuracy, and agreement."
            ]
        },
        {
            "cell_type": "markdown",
            "metadata": {
                "id": "WftM3TI2OLgd"
            },
            "source": [
                "### Feature Based Stylometry\n",
                "Author attribution pipeline using handcrafted stylometric features. Functions include: \n",
                "- `prepare_data()`: data preparation, feature extraction (character, word, and syntax levels)\n",
                "- `train()`: model training using  SVM and Random Forest classifiers\n",
                "- `predict()`: predicts the author of a given text sample\n",
                "\n",
                "The runs for each subset of data are processed and analyzed in dedicated subsections for clarity."
            ]
        },
        {
            "cell_type": "markdown",
            "metadata": {
                "id": "2wp661Fza9xZ"
            },
            "source": [
                "#### Data Prep\n",
                "Prepares data for model training by generating labels, extracting features, and mapping authors to indices."
            ]
        },
        {
            "cell_type": "code",
            "execution_count": null,
            "metadata": {
                "id": "7OQr9-2dOOhE"
            },
            "outputs": [],
            "source": [
                "def prepare_data(samples):\n",
                "    \"\"\"\n",
                "    Prepare data for training.\n",
                "\n",
                "    Args:\n",
                "        samples: List of (text, author) tuples\n",
                "\n",
                "    Returns:\n",
                "        feature_matrix: Feature matrix\n",
                "        labels: Target labels\n",
                "        feature_names: List of feature names\n",
                "        author_to_idx: Mapping from author names to indices\n",
                "    \"\"\"\n",
                "    texts, authors = zip(*samples)\n",
                "\n",
                "    # Create label mapping\n",
                "    unique_authors = sorted(set(authors))\n",
                "    author_to_idx = {author: i for i, author in enumerate(unique_authors)}\n",
                "    labels = np.array([author_to_idx[author] for author in authors])\n",
                "\n",
                "    # Extract features\n",
                "    features = [extract_all_features(text) for text in texts]\n",
                "    feature_names = list(features[0].keys())\n",
                "    feature_matrix = np.array([[float(feat.get(name, 0)) if str(feat.get(name, 0)).replace('.', '', 1).isdigit() else 0 for name in feature_names] for feat in features])\n",
                "\n",
                "    # return feature_matrix, labels, author_to_idx\n",
                "    return feature_matrix, labels, feature_names, author_to_idx"
            ]
        },
        {
            "cell_type": "markdown",
            "metadata": {
                "id": "wFh-ZPWMOS1h"
            },
            "source": [
                "#### Train\n",
                "Trains an author attribution model using stylometric features. It evaluates both SVM and Random Forest classifiers, selects the best-performing model, and provides validation metrics including accuracy, precision, recall, and confusion matrix."
            ]
        },
        {
            "cell_type": "code",
            "execution_count": null,
            "metadata": {
                "id": "dA5MZQ2xOepc"
            },
            "outputs": [],
            "source": [
                "def train(feature_matrix, labels):\n",
                "    \"\"\"\n",
                "    Train the author attribution model.\n",
                "\n",
                "    Args:\n",
                "        feature_matrix: Feature matrix\n",
                "        labels: Target labels\n",
                "\n",
                "    Returns:\n",
                "        model: The trained model with the best performance on the validation set.\n",
                "    \"\"\"\n",
                "    X_train, X_val, y_train, y_val = train_test_split(feature_matrix, labels, test_size=0.2, random_state=42)\n",
                "\n",
                "    # Try both SVM and Random Forest\n",
                "    svm_pipeline = Pipeline([\n",
                "        ('scaler', StandardScaler()),\n",
                "        ('svm', SVC(kernel='rbf', probability=True))\n",
                "    ])\n",
                "\n",
                "    rf_pipeline = Pipeline([\n",
                "        ('scaler', StandardScaler()),\n",
                "        ('rf', RandomForestClassifier(n_estimators=100, random_state=42))\n",
                "    ])\n",
                "\n",
                "    # Find best hyperparameters for SVM\n",
                "    svm_param_grid = {\n",
                "        'svm__C': [0.1, 1, 10, 100],\n",
                "        'svm__gamma': ['scale', 'auto', 0.1, 0.01]\n",
                "    }\n",
                "    svm_grid = GridSearchCV(svm_pipeline, svm_param_grid, cv=5, scoring='f1_macro')\n",
                "    svm_grid.fit(X_train, y_train)\n",
                "\n",
                "    # Find best hyperparameters for Random Forest\n",
                "    rf_param_grid = {\n",
                "        'rf__n_estimators': [50, 100],\n",
                "        'rf__max_depth': [None, 10, 20]\n",
                "    }\n",
                "    rf_grid = GridSearchCV(rf_pipeline, rf_param_grid, cv=5, scoring='f1_macro')\n",
                "    rf_grid.fit(X_train, y_train)\n",
                "\n",
                "    # Compare both models\n",
                "    print(f\"SVM best score: {svm_grid.best_score_}\")\n",
                "    print(f\"Random Forest best score: {rf_grid.best_score_}\")\n",
                "\n",
                "    # Select the better model\n",
                "    if svm_grid.best_score_ >= rf_grid.best_score_:\n",
                "        model = svm_grid.best_estimator_\n",
                "        print(f\"Selected SVM with params: {svm_grid.best_params_}\")\n",
                "    else:\n",
                "        model = rf_grid.best_estimator_\n",
                "        print(f\"Selected Random Forest with params: {rf_grid.best_params_}\")\n",
                "\n",
                "    # Evaluate on validation set\n",
                "    y_pred = model.predict(X_val)\n",
                "    print(\"\\nValidation Set Performance:\")\n",
                "    print(classification_report(y_val, y_pred))\n",
                "    print(\"Confusion Matrix:\")\n",
                "    print(confusion_matrix(y_val, y_pred))\n",
                "\n",
                "    return model"
            ]
        },
        {
            "cell_type": "markdown",
            "metadata": {},
            "source": [
                "#### Predict\n",
                "Predicts the authors of text samples using a trained feature-based model. Outputs the predicted author indices for the given feature matrix."
            ]
        },
        {
            "cell_type": "code",
            "execution_count": null,
            "metadata": {},
            "outputs": [],
            "source": [
                "def predict(model, feature_matrix):\n",
                "    \"\"\"\n",
                "    Predict authors for texts.\n",
                "\n",
                "    Args:\n",
                "        feature_matrix: Feature matrix for texts\n",
                "\n",
                "    Returns:\n",
                "        Predicted author indices\n",
                "    \"\"\"\n",
                "\n",
                "    return model.predict(feature_matrix)"
            ]
        },
        {
            "cell_type": "markdown",
            "metadata": {},
            "source": [
                "#### Subset Runs"
            ]
        },
        {
            "cell_type": "markdown",
            "metadata": {},
            "source": [
                "##### Set 1\n",
                "- austen-emma.txt\n",
                "- chesterton-brown.txt\n",
                "- shakespeare-hamlet.txt"
            ]
        },
        {
            "cell_type": "code",
            "execution_count": null,
            "metadata": {},
            "outputs": [
                {
                    "name": "stdout",
                    "output_type": "stream",
                    "text": [
                        "Samples: [('[ Emma by Jane Austen 1816 ] VOLUME I CHAPTER I Emma Woodhouse , handsome , clever , and rich , with a comfortable home and happy disposition , seemed to unite some of the best blessings of existence ; and had lived nearly twenty-one years in the world with', 'austen-emma.txt'), (\"and had lived nearly twenty-one years in the world with very little to distress or vex her . She was the youngest of the two daughters of a most affectionate , indulgent father ; and had , in consequence of her sister 's marriage , been mistress of his house\", 'austen-emma.txt')]\n",
                        "Feature matrix shape: (7842, 30)\n",
                        "Labels shape: (7842,)\n",
                        "Feature names: ['avg_word_length', 'punct_freq', 'uppercase_freq', 'digit_freq', 'top_char_bigram_1']\n",
                        "Author to index mapping: {'austen-emma.txt': 0, 'chesterton-brown.txt': 1, 'shakespeare-hamlet.txt': 2}\n"
                    ]
                }
            ],
            "source": [
                "samples1 = get_samples(file_ids1, chunk_size=50, overlap=10)\n",
                "print(f\"Samples: {samples1[:2]}\")\n",
                "\n",
                "feature_matrix1, labels1, feature_names1, author_to_idx1 = prepare_data(samples1)\n",
                "print(f\"Feature matrix shape: {feature_matrix1.shape}\")\n",
                "print(f\"Labels shape: {labels1.shape}\")\n",
                "print(f\"Feature names: {feature_names1[:5]}\")\n",
                "print(f\"Author to index mapping: {author_to_idx1}\")"
            ]
        },
        {
            "cell_type": "code",
            "execution_count": null,
            "metadata": {},
            "outputs": [
                {
                    "name": "stdout",
                    "output_type": "stream",
                    "text": [
                        "SVM best score: 0.7690068541341261\n",
                        "Random Forest best score: 0.7505125319153404\n",
                        "Selected SVM with params: {'svm__C': 1, 'svm__gamma': 'auto'}\n",
                        "\n",
                        "Validation Set Performance:\n",
                        "              precision    recall  f1-score   support\n",
                        "\n",
                        "           0       0.79      0.90      0.84       946\n",
                        "           1       0.74      0.53      0.62       439\n",
                        "           2       0.84      0.81      0.83       184\n",
                        "\n",
                        "    accuracy                           0.78      1569\n",
                        "   macro avg       0.79      0.75      0.76      1569\n",
                        "weighted avg       0.78      0.78      0.78      1569\n",
                        "\n",
                        "Confusion Matrix:\n",
                        "[[849  79  18]\n",
                        " [196 233  10]\n",
                        " [ 33   2 149]]\n"
                    ]
                }
            ],
            "source": [
                "model1 = train(feature_matrix1, labels1)"
            ]
        },
        {
            "cell_type": "code",
            "execution_count": null,
            "metadata": {},
            "outputs": [
                {
                    "name": "stdout",
                    "output_type": "stream",
                    "text": [
                        "Predictions1: [1 0 0 ... 0 2 2]\n"
                    ]
                }
            ],
            "source": [
                "predictions1 = predict(model1, feature_matrix1)\n",
                "print('Predictions1:', predictions1)"
            ]
        },
        {
            "cell_type": "markdown",
            "metadata": {},
            "source": [
                "##### Set 2\n",
                "- bible-kjv.txt\n",
                "- blake-poems.txt\n",
                "- bryant-stories.txt"
            ]
        },
        {
            "cell_type": "code",
            "execution_count": null,
            "metadata": {},
            "outputs": [
                {
                    "name": "stdout",
                    "output_type": "stream",
                    "text": [
                        "Samples: [('[ The King James Bible ] The Old Testament of the King James Bible The First Book of Moses : Called Genesis 1:1 In the beginning God created the heaven and the earth . 1:2 And the earth was without form , and void ; and darkness was upon the', 'bible-kjv.txt'), ('form , and void ; and darkness was upon the face of the deep . And the Spirit of God moved upon the face of the waters . 1:3 And God said , Let there be light : and there was light . 1:4 And God saw the light ,', 'bible-kjv.txt')]\n",
                        "Feature matrix shape: (25269, 30)\n",
                        "Labels shape: (25269,)\n",
                        "Feature names: ['avg_word_length', 'punct_freq', 'uppercase_freq', 'digit_freq', 'top_char_bigram_1']\n",
                        "Author to index mapping: {'bible-kjv.txt': 0, 'blake-poems.txt': 1, 'bryant-stories.txt': 2}\n"
                    ]
                }
            ],
            "source": [
                "samples2 = get_samples(file_ids2, chunk_size=50, overlap=10)\n",
                "print(f\"Samples: {samples2[:2]}\")\n",
                "\n",
                "feature_matrix2, labels2, feature_names2, author_to_idx2 = prepare_data(samples2)\n",
                "\n",
                "print(f\"Feature matrix shape: {feature_matrix2.shape}\")\n",
                "print(f\"Labels shape: {labels2.shape}\")\n",
                "print(f\"Feature names: {feature_names2[:5]}\")\n",
                "print(f\"Author to index mapping: {author_to_idx2}\")"
            ]
        },
        {
            "cell_type": "code",
            "execution_count": null,
            "metadata": {},
            "outputs": [
                {
                    "name": "stdout",
                    "output_type": "stream",
                    "text": [
                        "SVM best score: 0.8707537838901469\n",
                        "Random Forest best score: 0.824158247508198\n",
                        "Selected SVM with params: {'svm__C': 10, 'svm__gamma': 0.01}\n",
                        "\n",
                        "Validation Set Performance:\n",
                        "              precision    recall  f1-score   support\n",
                        "\n",
                        "           0       1.00      1.00      1.00      4727\n",
                        "           1       0.68      0.39      0.49        44\n",
                        "           2       0.91      0.95      0.93       283\n",
                        "\n",
                        "    accuracy                           0.99      5054\n",
                        "   macro avg       0.86      0.78      0.81      5054\n",
                        "weighted avg       0.99      0.99      0.99      5054\n",
                        "\n",
                        "Confusion Matrix:\n",
                        "[[4720    1    6]\n",
                        " [   5   17   22]\n",
                        " [   7    7  269]]\n"
                    ]
                }
            ],
            "source": [
                "model2 = train(feature_matrix2, labels2)"
            ]
        },
        {
            "cell_type": "code",
            "execution_count": null,
            "metadata": {},
            "outputs": [
                {
                    "name": "stdout",
                    "output_type": "stream",
                    "text": [
                        "Predictions2: [0 0 0 ... 2 2 2]\n"
                    ]
                }
            ],
            "source": [
                "predictions2 = predict(model2, feature_matrix2)\n",
                "print('Predictions2:', predictions2)"
            ]
        },
        {
            "cell_type": "markdown",
            "metadata": {},
            "source": [
                "##### Set 3\n",
                "- burgess-busterbrown.txt\n",
                "- carroll-alice.txt\n",
                "- chesterton-ball.txt"
            ]
        },
        {
            "cell_type": "code",
            "execution_count": null,
            "metadata": {},
            "outputs": [
                {
                    "name": "stdout",
                    "output_type": "stream",
                    "text": [
                        "Samples: [('[ The Adventures of Buster Bear by Thornton W. Burgess 1920 ] I BUSTER BEAR GOES FISHING Buster Bear yawned as he lay on his comfortable bed of leaves and watched the first early morning sunbeams creeping through the Green Forest to chase out the Black Shadows . Once more', 'burgess-busterbrown.txt'), ('Forest to chase out the Black Shadows . Once more he yawned , and slowly got to his feet and shook himself . Then he walked over to a big pine-tree , stood up on his hind legs , reached as high up on the trunk of the tree as', 'burgess-busterbrown.txt')]\n",
                        "Feature matrix shape: (3669, 30)\n",
                        "Labels shape: (3669,)\n",
                        "Feature names: ['avg_word_length', 'punct_freq', 'uppercase_freq', 'digit_freq', 'top_char_bigram_1']\n",
                        "Author to index mapping: {'burgess-busterbrown.txt': 0, 'carroll-alice.txt': 1, 'chesterton-ball.txt': 2}\n"
                    ]
                }
            ],
            "source": [
                "samples3 = get_samples(file_ids3, chunk_size=50, overlap=10)\n",
                "print(f\"Samples: {samples3[:2]}\")\n",
                "\n",
                "feature_matrix3, labels3, feature_names3, author_to_idx3 = prepare_data(samples3)\n",
                "\n",
                "print(f\"Feature matrix shape: {feature_matrix3.shape}\")\n",
                "print(f\"Labels shape: {labels3.shape}\")\n",
                "print(f\"Feature names: {feature_names3[:5]}\")\n",
                "print(f\"Author to index mapping: {author_to_idx3}\")"
            ]
        },
        {
            "cell_type": "code",
            "execution_count": null,
            "metadata": {},
            "outputs": [
                {
                    "name": "stdout",
                    "output_type": "stream",
                    "text": [
                        "SVM best score: 0.717355312110657\n",
                        "Random Forest best score: 0.6266876512392627\n",
                        "Selected SVM with params: {'svm__C': 10, 'svm__gamma': 0.01}\n",
                        "\n",
                        "Validation Set Performance:\n",
                        "              precision    recall  f1-score   support\n",
                        "\n",
                        "           0       0.79      0.47      0.59       117\n",
                        "           1       0.72      0.63      0.67       163\n",
                        "           2       0.79      0.91      0.84       454\n",
                        "\n",
                        "    accuracy                           0.78       734\n",
                        "   macro avg       0.76      0.67      0.70       734\n",
                        "weighted avg       0.77      0.78      0.76       734\n",
                        "\n",
                        "Confusion Matrix:\n",
                        "[[ 55  10  52]\n",
                        " [  3 103  57]\n",
                        " [ 12  31 411]]\n"
                    ]
                }
            ],
            "source": [
                "model3 = train(feature_matrix3, labels3)"
            ]
        },
        {
            "cell_type": "code",
            "execution_count": null,
            "metadata": {},
            "outputs": [
                {
                    "name": "stdout",
                    "output_type": "stream",
                    "text": [
                        "Predictions3: [1 0 2 ... 2 2 2]\n"
                    ]
                }
            ],
            "source": [
                "predictions3 = predict(model3, feature_matrix3)\n",
                "print('Predictions3:', predictions3)"
            ]
        },
        {
            "cell_type": "markdown",
            "metadata": {},
            "source": [
                "##### Set 4\n",
                "- austen-persuasion.txt\n",
                "- chesterton-thursday.txt\n",
                "- shakespeare-macbeth.txt"
            ]
        },
        {
            "cell_type": "code",
            "execution_count": null,
            "metadata": {},
            "outputs": [
                {
                    "name": "stdout",
                    "output_type": "stream",
                    "text": [
                        "Samples: [('[ Persuasion by Jane Austen 1818 ] Chapter 1 Sir Walter Elliot , of Kellynch Hall , in Somersetshire , was a man who , for his own amusement , never took up any book but the Baronetage ; there he found occupation for an idle hour , and consolation', 'austen-persuasion.txt'), ('he found occupation for an idle hour , and consolation in a distressed one ; there his faculties were roused into admiration and respect , by contemplating the limited remnant of the earliest patents ; there any unwelcome sensations , arising from domestic affairs changed naturally into pity and contempt', 'austen-persuasion.txt')]\n",
                        "Feature matrix shape: (4739, 30)\n",
                        "Labels shape: (4739,)\n"
                    ]
                }
            ],
            "source": [
                "samples4 = get_samples(file_ids4, chunk_size=50, overlap=10)\n",
                "print(f\"Samples: {samples4[:2]}\")\n",
                "\n",
                "feature_matrix4, labels4, feature_names4, author_to_idx4 = prepare_data(samples4)\n",
                "\n",
                "print(f\"Feature matrix shape: {feature_matrix4.shape}\")\n",
                "print(f\"Labels shape: {labels4.shape}\")"
            ]
        },
        {
            "cell_type": "code",
            "execution_count": null,
            "metadata": {},
            "outputs": [
                {
                    "name": "stdout",
                    "output_type": "stream",
                    "text": [
                        "SVM best score: 0.8026817658022324\n",
                        "Random Forest best score: 0.7953263024085049\n",
                        "Selected SVM with params: {'svm__C': 1, 'svm__gamma': 'auto'}\n",
                        "\n",
                        "Validation Set Performance:\n",
                        "              precision    recall  f1-score   support\n",
                        "\n",
                        "           0       0.77      0.87      0.81       494\n",
                        "           1       0.78      0.65      0.71       349\n",
                        "           2       0.94      0.89      0.91       105\n",
                        "\n",
                        "    accuracy                           0.79       948\n",
                        "   macro avg       0.83      0.80      0.81       948\n",
                        "weighted avg       0.79      0.79      0.79       948\n",
                        "\n",
                        "Confusion Matrix:\n",
                        "[[428  62   4]\n",
                        " [121 226   2]\n",
                        " [ 10   2  93]]\n"
                    ]
                }
            ],
            "source": [
                "model4 = train(feature_matrix4, labels4)"
            ]
        },
        {
            "cell_type": "code",
            "execution_count": null,
            "metadata": {},
            "outputs": [
                {
                    "name": "stdout",
                    "output_type": "stream",
                    "text": [
                        "Predictions4: [0 0 0 ... 2 2 2]\n"
                    ]
                }
            ],
            "source": [
                "predictions4 = predict(model4, feature_matrix4)\n",
                "print('Predictions4:', predictions4)"
            ]
        },
        {
            "cell_type": "markdown",
            "metadata": {},
            "source": [
                "##### Set 5\n",
                "- melville-moby_dick.txt\n",
                "- milton-paradise.txt\n",
                "- shakespeare-caesar.txt"
            ]
        },
        {
            "cell_type": "code",
            "execution_count": null,
            "metadata": {},
            "outputs": [
                {
                    "name": "stdout",
                    "output_type": "stream",
                    "text": [
                        "Samples: [('[ Moby Dick by Herman Melville 1851 ] ETYMOLOGY . ( Supplied by a Late Consumptive Usher to a Grammar School ) The pale Usher -- threadbare in coat , heart , body , and brain ; I see him now . He was ever dusting his old lexicons and', 'melville-moby_dick.txt'), ('now . He was ever dusting his old lexicons and grammars , with a queer handkerchief , mockingly embellished with all the gay flags of all the known nations of the world . He loved to dust his old grammars ; it somehow mildly reminded him of his mortality .', 'melville-moby_dick.txt')]\n",
                        "Feature matrix shape: (9403, 30)\n",
                        "Labels shape: (9403,)\n",
                        "Feature names: ['avg_word_length', 'punct_freq', 'uppercase_freq', 'digit_freq', 'top_char_bigram_1']\n",
                        "Author to index mapping: {'melville-moby_dick.txt': 0, 'milton-paradise.txt': 1, 'shakespeare-caesar.txt': 2}\n"
                    ]
                }
            ],
            "source": [
                "samples5 = get_samples(file_ids5, chunk_size=50, overlap=10)\n",
                "print(f\"Samples: {samples5[:2]}\")\n",
                "\n",
                "feature_matrix5, labels5, feature_names5, author_to_idx5 = prepare_data(samples5)\n",
                "\n",
                "print(f\"Feature matrix shape: {feature_matrix5.shape}\")\n",
                "print(f\"Labels shape: {labels5.shape}\")\n",
                "print(f\"Feature names: {feature_names5[:5]}\")\n",
                "print(f\"Author to index mapping: {author_to_idx5}\")"
            ]
        },
        {
            "cell_type": "code",
            "execution_count": null,
            "metadata": {},
            "outputs": [
                {
                    "name": "stdout",
                    "output_type": "stream",
                    "text": [
                        "SVM best score: 0.8712612651963572\n",
                        "Random Forest best score: 0.8616363574641281\n",
                        "Selected SVM with params: {'svm__C': 10, 'svm__gamma': 0.01}\n",
                        "\n",
                        "Validation Set Performance:\n",
                        "              precision    recall  f1-score   support\n",
                        "\n",
                        "           0       0.96      0.96      0.96      1284\n",
                        "           1       0.87      0.90      0.89       477\n",
                        "           2       0.83      0.71      0.76       120\n",
                        "\n",
                        "    accuracy                           0.93      1881\n",
                        "   macro avg       0.89      0.86      0.87      1881\n",
                        "weighted avg       0.93      0.93      0.93      1881\n",
                        "\n",
                        "Confusion Matrix:\n",
                        "[[1238   38    8]\n",
                        " [  37  430   10]\n",
                        " [  11   24   85]]\n"
                    ]
                }
            ],
            "source": [
                "model5 = train(feature_matrix5, labels5)"
            ]
        },
        {
            "cell_type": "code",
            "execution_count": null,
            "metadata": {},
            "outputs": [
                {
                    "name": "stdout",
                    "output_type": "stream",
                    "text": [
                        "Predictions5: [0 0 0 ... 1 0 2]\n"
                    ]
                }
            ],
            "source": [
                "predictions5 = predict(model5, feature_matrix5)\n",
                "print('Predictions5:', predictions5)"
            ]
        },
        {
            "cell_type": "markdown",
            "metadata": {},
            "source": [
                "##### Set 6\n",
                "- austen-sense.txt\n",
                "- edgeworth-parents.txt\n",
                "- whitman-leaves.txt"
            ]
        },
        {
            "cell_type": "code",
            "execution_count": null,
            "metadata": {},
            "outputs": [
                {
                    "name": "stdout",
                    "output_type": "stream",
                    "text": [
                        "['austen-sense.txt', 'edgeworth-parents.txt', 'whitman-leaves.txt']\n",
                        "Samples: [('[ Sense and Sensibility by Jane Austen 1811 ] CHAPTER 1 The family of Dashwood had long been settled in Sussex . Their estate was large , and their residence was at Norland Park , in the centre of their property , where , for many generations , they had', 'austen-sense.txt'), ('property , where , for many generations , they had lived in so respectable a manner as to engage the general good opinion of their surrounding acquaintance . The late owner of this estate was a single man , who lived to a very advanced age , and who for', 'austen-sense.txt')]\n",
                        "Feature matrix shape: (12505, 30)\n",
                        "Labels shape: (12505,)\n",
                        "Feature names: ['avg_word_length', 'punct_freq', 'uppercase_freq', 'digit_freq', 'top_char_bigram_1']\n",
                        "Author to index mapping: {'austen-sense.txt': 0, 'edgeworth-parents.txt': 1, 'whitman-leaves.txt': 2}\n"
                    ]
                }
            ],
            "source": [
                "print(file_ids6)\n",
                "samples6 = get_samples(file_ids6, chunk_size=50, overlap=10)\n",
                "print(f\"Samples: {samples6[:2]}\")\n",
                "\n",
                "feature_matrix6, labels6, feature_names6, author_to_idx6 = prepare_data(samples6)\n",
                "\n",
                "print(f\"Feature matrix shape: {feature_matrix6.shape}\")\n",
                "print(f\"Labels shape: {labels6.shape}\")\n",
                "print(f\"Feature names: {feature_names6[:5]}\")\n",
                "print(f\"Author to index mapping: {author_to_idx6}\")"
            ]
        },
        {
            "cell_type": "code",
            "execution_count": null,
            "metadata": {},
            "outputs": [
                {
                    "name": "stdout",
                    "output_type": "stream",
                    "text": [
                        "SVM best score: 0.7574551413918937\n",
                        "Random Forest best score: 0.736958028807997\n",
                        "Selected SVM with params: {'svm__C': 10, 'svm__gamma': 0.01}\n",
                        "\n",
                        "Validation Set Performance:\n",
                        "              precision    recall  f1-score   support\n",
                        "\n",
                        "           0       0.69      0.64      0.66       725\n",
                        "           1       0.73      0.77      0.75      1042\n",
                        "           2       0.87      0.86      0.86       734\n",
                        "\n",
                        "    accuracy                           0.76      2501\n",
                        "   macro avg       0.76      0.76      0.76      2501\n",
                        "weighted avg       0.76      0.76      0.76      2501\n",
                        "\n",
                        "Confusion Matrix:\n",
                        "[[462 230  33]\n",
                        " [172 805  65]\n",
                        " [ 35  66 633]]\n"
                    ]
                }
            ],
            "source": [
                "model6 = train(feature_matrix6, labels6)"
            ]
        },
        {
            "cell_type": "code",
            "execution_count": null,
            "metadata": {},
            "outputs": [
                {
                    "name": "stdout",
                    "output_type": "stream",
                    "text": [
                        "Predictions6: [1 0 0 ... 1 1 2]\n"
                    ]
                }
            ],
            "source": [
                "predictions6 = predict(model6, feature_matrix6)\n",
                "print('Predictions6:', predictions6)"
            ]
        },
        {
            "cell_type": "markdown",
            "metadata": {
                "id": "p2m5oMP4O-si"
            },
            "source": [
                "### Transformer Based Embeddings\n",
                "Author attribution pipeline using pre-trained transformer model (BERT) to generate dense embeddings for text samples. Functions include:\n",
                "\n",
                "- `transformer_prepare_data()`: data preparation\n",
                "- `extract_embeddings()`: embedding extraction\n",
                "- `transformer_train()`: model training using embeddings as input features\n",
                "- `predict()`: predicts the author of a given text sample"
            ]
        },
        {
            "cell_type": "markdown",
            "metadata": {
                "id": "GIvKc0hoPPWC"
            },
            "source": [
                "#### Data Prep\n",
                "Prepares data for model training by generating labels, extracting embeddings, and mapping authors to indices."
            ]
        },
        {
            "cell_type": "code",
            "execution_count": 22,
            "metadata": {
                "id": "MSerB8W9PSLG"
            },
            "outputs": [],
            "source": [
                "def transformer_prepare_data(samples):\n",
                "    \"\"\"\n",
                "    Prepare data for training.\n",
                "\n",
                "    Args:\n",
                "        samples: List of (text, author) tuples\n",
                "\n",
                "    Returns:\n",
                "        embeddings: Embeddings from transformer model\n",
                "        labels: Target labels\n",
                "        feature_names: List of feature names\n",
                "        author_to_idx: Mapping from author names to indices\n",
                "    \"\"\"\n",
                "    texts, authors = zip(*samples)\n",
                "\n",
                "    # Create label mapping\n",
                "    unique_authors = sorted(set(authors))\n",
                "    author_to_idx = {author: i for i, author in enumerate(unique_authors)}\n",
                "    labels = np.array([author_to_idx[author] for author in authors])\n",
                "    # Convert labels to torch tensors\n",
                "    labels = torch.tensor(labels)\n",
                "\n",
                "    # Extract embeddings\n",
                "    embeddings = extract_embeddings(texts)\n",
                "\n",
                "    return embeddings, labels, author_to_idx"
            ]
        },
        {
            "cell_type": "markdown",
            "metadata": {
                "id": "BLpfDeQNOqom"
            },
            "source": [
                "#### Train\n",
                "Trains an author attribution model using transformer-based embeddings. It splits the data into training and testing sets, scales the embeddings, and trains an SVM classifier. The function evaluates the model's performance on the test set, providing metrics such as accuracy, precision, recall, F1-score, and a confusion matrix."
            ]
        },
        {
            "cell_type": "code",
            "execution_count": null,
            "metadata": {
                "id": "C2H0lbObOvHF"
            },
            "outputs": [],
            "source": [
                "def transformer_train(embeddings, labels):\n",
                "    \"\"\"\n",
                "    Train an author attribution model using transformer-based embeddings.\n",
                "\n",
                "    Args:\n",
                "        embeddings (numpy.ndarray): Dense embeddings generated from a transformer model.\n",
                "        labels (numpy.ndarray or torch.Tensor): Target labels corresponding to the embeddings.\n",
                "\n",
                "    Returns:\n",
                "        sklearn.pipeline.Pipeline: A trained pipeline consisting of a scaler and an SVM classifier.\n",
                "    \"\"\"\n",
                "    # Convert pytorch tensor to numpy array if needed\n",
                "    if isinstance(labels, torch.Tensor):\n",
                "        labels = labels.numpy()\n",
                "\n",
                "    # Split data into training and testing sets\n",
                "    X_train, X_test, y_train, y_test = train_test_split(\n",
                "        embeddings, labels, test_size=0.2, random_state=42, stratify=labels\n",
                "    )\n",
                "\n",
                "    # Create pipeline with scaling and SVM\n",
                "    pipeline = Pipeline([\n",
                "        ('scaler', StandardScaler()),\n",
                "        ('classifier', SVC(kernel='rbf', C=10, gamma='scale', probability=True))\n",
                "    ])\n",
                "\n",
                "    # Train the model\n",
                "    pipeline.fit(X_train, y_train)\n",
                "\n",
                "    # Predict on test set\n",
                "    y_pred = pipeline.predict(X_test)\n",
                "\n",
                "    # Calculate and print evaluation metrics\n",
                "    print(\"\\nTransformer Model Performance:\")\n",
                "    print(\"\\nConfusion Matrix:\")\n",
                "    conf_matrix = confusion_matrix(y_test, y_pred)\n",
                "    print(conf_matrix)\n",
                "\n",
                "    print(\"\\nClassification Report:\")\n",
                "    class_report = classification_report(y_test, y_pred)\n",
                "    print(class_report)\n",
                "\n",
                "    # Get model accuracy\n",
                "    accuracy = pipeline.score(X_test, y_test)\n",
                "    print(f\"\\nAccuracy: {accuracy:.4f}\")\n",
                "\n",
                "    # Get precision, recall, F1-score\n",
                "    precision, recall, f1, _ = precision_recall_fscore_support(y_test, y_pred, average='weighted')\n",
                "    print(f\"Precision: {precision:.4f}\")\n",
                "    print(f\"Recall: {recall:.4f}\")\n",
                "    print(f\"F1 Score: {f1:.4f}\")\n",
                "\n",
                "    return pipeline"
            ]
        },
        {
            "cell_type": "markdown",
            "metadata": {},
            "source": [
                "#### Predict"
            ]
        },
        {
            "cell_type": "code",
            "execution_count": null,
            "metadata": {},
            "outputs": [],
            "source": [
                "def predict(model, feature_matrix):\n",
                "    \"\"\"\n",
                "    Predict authors for texts.\n",
                "\n",
                "    Args:\n",
                "        feature_matrix: Feature matrix for texts\n",
                "\n",
                "    Returns:\n",
                "        Predicted author indices\n",
                "    \"\"\"\n",
                "\n",
                "    return model.predict(feature_matrix)"
            ]
        },
        {
            "cell_type": "markdown",
            "metadata": {},
            "source": [
                "#### Subset Runs"
            ]
        },
        {
            "cell_type": "markdown",
            "metadata": {},
            "source": [
                "##### Set 1\n",
                "- austen-emma.txt\n",
                "- chesterton-brown.txt\n",
                "- shakespeare-hamlet.txt"
            ]
        },
        {
            "cell_type": "code",
            "execution_count": null,
            "metadata": {},
            "outputs": [
                {
                    "name": "stdout",
                    "output_type": "stream",
                    "text": [
                        "Samples: [('[ Emma by Jane Austen 1816 ] VOLUME I CHAPTER I Emma Woodhouse , handsome , clever , and rich , with a comfortable home and happy disposition , seemed to unite some of the best blessings of existence ; and had lived nearly twenty-one years in the world with', 'austen-emma.txt'), (\"and had lived nearly twenty-one years in the world with very little to distress or vex her . She was the youngest of the two daughters of a most affectionate , indulgent father ; and had , in consequence of her sister 's marriage , been mistress of his house\", 'austen-emma.txt')]\n"
                    ]
                },
                {
                    "name": "stderr",
                    "output_type": "stream",
                    "text": [
                        "/usr/local/lib/python3.11/dist-packages/huggingface_hub/utils/_auth.py:94: UserWarning: \n",
                        "The secret `HF_TOKEN` does not exist in your Colab secrets.\n",
                        "To authenticate with the Hugging Face Hub, create a token in your settings tab (https://huggingface.co/settings/tokens), set it as secret in your Google Colab and restart your session.\n",
                        "You will be able to reuse this secret in all of your notebooks.\n",
                        "Please note that authentication is recommended but still optional to access public models or datasets.\n",
                        "  warnings.warn(\n"
                    ]
                },
                {
                    "data": {
                        "application/vnd.jupyter.widget-view+json": {
                            "model_id": "c70fc22e41544fafa13d97881005bafa",
                            "version_major": 2,
                            "version_minor": 0
                        },
                        "text/plain": [
                            "tokenizer_config.json:   0%|          | 0.00/48.0 [00:00<?, ?B/s]"
                        ]
                    },
                    "metadata": {},
                    "output_type": "display_data"
                },
                {
                    "data": {
                        "application/vnd.jupyter.widget-view+json": {
                            "model_id": "22c5f7b0d3c64cf6b15d66aff5e65dd6",
                            "version_major": 2,
                            "version_minor": 0
                        },
                        "text/plain": [
                            "config.json:   0%|          | 0.00/570 [00:00<?, ?B/s]"
                        ]
                    },
                    "metadata": {},
                    "output_type": "display_data"
                },
                {
                    "data": {
                        "application/vnd.jupyter.widget-view+json": {
                            "model_id": "ab3681fe3d704e0da97b6e4525126fc3",
                            "version_major": 2,
                            "version_minor": 0
                        },
                        "text/plain": [
                            "vocab.txt:   0%|          | 0.00/232k [00:00<?, ?B/s]"
                        ]
                    },
                    "metadata": {},
                    "output_type": "display_data"
                },
                {
                    "data": {
                        "application/vnd.jupyter.widget-view+json": {
                            "model_id": "526368b8f1c146b18515f4d2d29862f9",
                            "version_major": 2,
                            "version_minor": 0
                        },
                        "text/plain": [
                            "tokenizer.json:   0%|          | 0.00/466k [00:00<?, ?B/s]"
                        ]
                    },
                    "metadata": {},
                    "output_type": "display_data"
                },
                {
                    "data": {
                        "application/vnd.jupyter.widget-view+json": {
                            "model_id": "7d7aa819bdc14eb79df2bf73c82176aa",
                            "version_major": 2,
                            "version_minor": 0
                        },
                        "text/plain": [
                            "model.safetensors:   0%|          | 0.00/440M [00:00<?, ?B/s]"
                        ]
                    },
                    "metadata": {},
                    "output_type": "display_data"
                },
                {
                    "name": "stdout",
                    "output_type": "stream",
                    "text": [
                        "Embeddings shape: (7842, 768)\n",
                        "Labels shape: torch.Size([7842])\n",
                        "Author to index mapping: {'austen-emma.txt': 0, 'chesterton-brown.txt': 1, 'shakespeare-hamlet.txt': 2}\n"
                    ]
                }
            ],
            "source": [
                "samples1 = get_samples(file_ids1, chunk_size=50, overlap=10)\n",
                "print(f\"Samples: {samples1[:2]}\")\n",
                "embeddings1, labels1, author_to_idx1 = transformer_prepare_data(samples1)\n",
                "print(f\"Embeddings shape: {embeddings1.shape}\")\n",
                "print(f\"Labels shape: {labels1.shape}\")\n",
                "print(f\"Author to index mapping: {author_to_idx1}\")"
            ]
        },
        {
            "cell_type": "code",
            "execution_count": null,
            "metadata": {},
            "outputs": [
                {
                    "name": "stdout",
                    "output_type": "stream",
                    "text": [
                        "\n",
                        "Transformer Model Performance:\n",
                        "\n",
                        "Confusion Matrix:\n",
                        "[[946  13   1]\n",
                        " [ 23 404   0]\n",
                        " [  0   2 180]]\n",
                        "\n",
                        "Classification Report:\n",
                        "              precision    recall  f1-score   support\n",
                        "\n",
                        "           0       0.98      0.99      0.98       960\n",
                        "           1       0.96      0.95      0.96       427\n",
                        "           2       0.99      0.99      0.99       182\n",
                        "\n",
                        "    accuracy                           0.98      1569\n",
                        "   macro avg       0.98      0.97      0.98      1569\n",
                        "weighted avg       0.98      0.98      0.98      1569\n",
                        "\n",
                        "\n",
                        "Accuracy: 0.9751\n",
                        "Precision: 0.9751\n",
                        "Recall: 0.9751\n",
                        "F1 Score: 0.9751\n"
                    ]
                }
            ],
            "source": [
                "t_model1 = transformer_train(embeddings1, labels1)"
            ]
        },
        {
            "cell_type": "code",
            "execution_count": null,
            "metadata": {},
            "outputs": [],
            "source": [
                "t_predictions1 = transformer_predict(model1, embeddings1, author_to_idx1)"
            ]
        },
        {
            "cell_type": "markdown",
            "metadata": {},
            "source": [
                "##### Set 2\n",
                "- bible-kjv.txt\n",
                "- blake-poems.txt\n",
                "- bryant-stories.txt"
            ]
        },
        {
            "cell_type": "code",
            "execution_count": null,
            "metadata": {},
            "outputs": [
                {
                    "name": "stdout",
                    "output_type": "stream",
                    "text": [
                        "Samples: [('[ The King James Bible ] The Old Testament of the King James Bible The First Book of Moses : Called Genesis 1:1 In the beginning God created the heaven and the earth . 1:2 And the earth was without form , and void ; and darkness was upon the', 'bible-kjv.txt'), ('form , and void ; and darkness was upon the face of the deep . And the Spirit of God moved upon the face of the waters . 1:3 And God said , Let there be light : and there was light . 1:4 And God saw the light ,', 'bible-kjv.txt')]\n",
                        "Embeddings shape: (25269, 768)\n",
                        "Labels shape: torch.Size([25269])\n",
                        "Author to index mapping: {'bible-kjv.txt': 0, 'blake-poems.txt': 1, 'bryant-stories.txt': 2}\n",
                        "\n",
                        "Transformer Model Performance:\n",
                        "\n",
                        "Confusion Matrix:\n",
                        "[[4733    2    0]\n",
                        " [   1   38    2]\n",
                        " [   2    1  275]]\n",
                        "\n",
                        "Classification Report:\n",
                        "              precision    recall  f1-score   support\n",
                        "\n",
                        "           0       1.00      1.00      1.00      4735\n",
                        "           1       0.93      0.93      0.93        41\n",
                        "           2       0.99      0.99      0.99       278\n",
                        "\n",
                        "    accuracy                           1.00      5054\n",
                        "   macro avg       0.97      0.97      0.97      5054\n",
                        "weighted avg       1.00      1.00      1.00      5054\n",
                        "\n",
                        "\n",
                        "Accuracy: 0.9984\n",
                        "Precision: 0.9984\n",
                        "Recall: 0.9984\n",
                        "F1 Score: 0.9984\n"
                    ]
                }
            ],
            "source": [
                "samples2 = get_samples(file_ids2, chunk_size=50, overlap=10)\n",
                "print(f\"Samples: {samples2[:2]}\")\n",
                "embeddings2, labels2, author_to_idx2 = transformer_prepare_data(samples2)\n",
                "print(f\"Embeddings shape: {embeddings2.shape}\")\n",
                "print(f\"Labels shape: {labels2.shape}\")\n",
                "print(f\"Author to index mapping: {author_to_idx2}\")\n",
                "\n",
                "t_model2 = transformer_train(embeddings2, labels2)"
            ]
        },
        {
            "cell_type": "code",
            "execution_count": null,
            "metadata": {},
            "outputs": [],
            "source": [
                "t_predictions2 = transformer_predict(t_model2, embeddings2, author_to_idx2)"
            ]
        },
        {
            "cell_type": "markdown",
            "metadata": {},
            "source": [
                "##### Set 3\n",
                "- burgess-busterbrown.txt\n",
                "- carroll-alice.txt\n",
                "- chesterton-ball.txt"
            ]
        },
        {
            "cell_type": "code",
            "execution_count": null,
            "metadata": {},
            "outputs": [
                {
                    "name": "stdout",
                    "output_type": "stream",
                    "text": [
                        "Samples: [('[ The Adventures of Buster Bear by Thornton W. Burgess 1920 ] I BUSTER BEAR GOES FISHING Buster Bear yawned as he lay on his comfortable bed of leaves and watched the first early morning sunbeams creeping through the Green Forest to chase out the Black Shadows . Once more', 'burgess-busterbrown.txt'), ('Forest to chase out the Black Shadows . Once more he yawned , and slowly got to his feet and shook himself . Then he walked over to a big pine-tree , stood up on his hind legs , reached as high up on the trunk of the tree as', 'burgess-busterbrown.txt')]\n",
                        "Embeddings shape: (3669, 768)\n",
                        "Labels shape: torch.Size([3669])\n",
                        "Author to index mapping: {'burgess-busterbrown.txt': 0, 'carroll-alice.txt': 1, 'chesterton-ball.txt': 2}\n",
                        "\n",
                        "Transformer Model Performance:\n",
                        "\n",
                        "Confusion Matrix:\n",
                        "[[ 89   1   3]\n",
                        " [  2 159   7]\n",
                        " [  0   0 473]]\n",
                        "\n",
                        "Classification Report:\n",
                        "              precision    recall  f1-score   support\n",
                        "\n",
                        "           0       0.98      0.96      0.97        93\n",
                        "           1       0.99      0.95      0.97       168\n",
                        "           2       0.98      1.00      0.99       473\n",
                        "\n",
                        "    accuracy                           0.98       734\n",
                        "   macro avg       0.98      0.97      0.98       734\n",
                        "weighted avg       0.98      0.98      0.98       734\n",
                        "\n",
                        "\n",
                        "Accuracy: 0.9823\n",
                        "Precision: 0.9824\n",
                        "Recall: 0.9823\n",
                        "F1 Score: 0.9821\n"
                    ]
                }
            ],
            "source": [
                "samples3 = get_samples(file_ids3, chunk_size=50, overlap=10)\n",
                "print(f\"Samples: {samples3[:2]}\")\n",
                "embeddings3, labels3, author_to_idx3 = transformer_prepare_data(samples3)\n",
                "print(f\"Embeddings shape: {embeddings3.shape}\")\n",
                "print(f\"Labels shape: {labels3.shape}\")\n",
                "print(f\"Author to index mapping: {author_to_idx3}\")\n",
                "\n",
                "t_model3 = transformer_train(embeddings3, labels3)"
            ]
        },
        {
            "cell_type": "code",
            "execution_count": null,
            "metadata": {},
            "outputs": [],
            "source": [
                "t_predictions3 = transformer_predict(t_model3, embeddings3, author_to_idx3)"
            ]
        },
        {
            "cell_type": "markdown",
            "metadata": {},
            "source": [
                "##### Set 4\n",
                "- austen-persuasion.txt\n",
                "- chesterton-thursday.txt\n",
                "- shakespeare-macbeth.txt"
            ]
        },
        {
            "cell_type": "code",
            "execution_count": null,
            "metadata": {},
            "outputs": [
                {
                    "name": "stdout",
                    "output_type": "stream",
                    "text": [
                        "Samples: [('[ Persuasion by Jane Austen 1818 ] Chapter 1 Sir Walter Elliot , of Kellynch Hall , in Somersetshire , was a man who , for his own amusement , never took up any book but the Baronetage ; there he found occupation for an idle hour , and consolation', 'austen-persuasion.txt'), ('he found occupation for an idle hour , and consolation in a distressed one ; there his faculties were roused into admiration and respect , by contemplating the limited remnant of the earliest patents ; there any unwelcome sensations , arising from domestic affairs changed naturally into pity and contempt', 'austen-persuasion.txt')]\n",
                        "Embeddings shape: (4739, 768)\n",
                        "Labels shape: torch.Size([4739])\n",
                        "Author to index mapping: {'austen-persuasion.txt': 0, 'chesterton-thursday.txt': 1, 'shakespeare-macbeth.txt': 2}\n"
                    ]
                }
            ],
            "source": [
                "samples4 = get_samples(file_ids4, chunk_size=50, overlap=10)\n",
                "print(f\"Samples: {samples4[:2]}\")\n",
                "embeddings4, labels4, author_to_idx4 = transformer_prepare_data(samples4)\n",
                "print(f\"Embeddings shape: {embeddings4.shape}\")\n",
                "print(f\"Labels shape: {labels4.shape}\")\n",
                "print(f\"Author to index mapping: {author_to_idx4}\")"
            ]
        },
        {
            "cell_type": "code",
            "execution_count": null,
            "metadata": {},
            "outputs": [
                {
                    "name": "stdout",
                    "output_type": "stream",
                    "text": [
                        "\n",
                        "Transformer Model Performance:\n",
                        "\n",
                        "Confusion Matrix:\n",
                        "[[474  16   0]\n",
                        " [  6 341   0]\n",
                        " [  0   0 111]]\n",
                        "\n",
                        "Classification Report:\n",
                        "              precision    recall  f1-score   support\n",
                        "\n",
                        "           0       0.99      0.97      0.98       490\n",
                        "           1       0.96      0.98      0.97       347\n",
                        "           2       1.00      1.00      1.00       111\n",
                        "\n",
                        "    accuracy                           0.98       948\n",
                        "   macro avg       0.98      0.98      0.98       948\n",
                        "weighted avg       0.98      0.98      0.98       948\n",
                        "\n",
                        "\n",
                        "Accuracy: 0.9768\n",
                        "Precision: 0.9771\n",
                        "Recall: 0.9768\n",
                        "F1 Score: 0.9768\n"
                    ]
                }
            ],
            "source": [
                "t_model4 = transformer_train(embeddings4, labels4)"
            ]
        },
        {
            "cell_type": "code",
            "execution_count": null,
            "metadata": {},
            "outputs": [],
            "source": [
                "t_predictions4 = transformer_predict(t_model4, embeddings4, author_to_idx4)"
            ]
        },
        {
            "cell_type": "markdown",
            "metadata": {},
            "source": [
                "##### Set 5\n",
                "- melville-moby_dick.txt\n",
                "- milton-paradise.txt\n",
                "- shakespeare-caesar.txt"
            ]
        },
        {
            "cell_type": "code",
            "execution_count": null,
            "metadata": {},
            "outputs": [
                {
                    "name": "stdout",
                    "output_type": "stream",
                    "text": [
                        "Samples: [('[ Moby Dick by Herman Melville 1851 ] ETYMOLOGY . ( Supplied by a Late Consumptive Usher to a Grammar School ) The pale Usher -- threadbare in coat , heart , body , and brain ; I see him now . He was ever dusting his old lexicons and', 'melville-moby_dick.txt'), ('now . He was ever dusting his old lexicons and grammars , with a queer handkerchief , mockingly embellished with all the gay flags of all the known nations of the world . He loved to dust his old grammars ; it somehow mildly reminded him of his mortality .', 'melville-moby_dick.txt')]\n",
                        "Embeddings shape: (9403, 768)\n",
                        "Labels shape: torch.Size([9403])\n",
                        "Author to index mapping: {'melville-moby_dick.txt': 0, 'milton-paradise.txt': 1, 'shakespeare-caesar.txt': 2}\n",
                        "\n",
                        "Transformer Model Performance:\n",
                        "\n",
                        "Confusion Matrix:\n",
                        "[[1266   10    0]\n",
                        " [  13  466    0]\n",
                        " [   2    6  118]]\n",
                        "\n",
                        "Classification Report:\n",
                        "              precision    recall  f1-score   support\n",
                        "\n",
                        "           0       0.99      0.99      0.99      1276\n",
                        "           1       0.97      0.97      0.97       479\n",
                        "           2       1.00      0.94      0.97       126\n",
                        "\n",
                        "    accuracy                           0.98      1881\n",
                        "   macro avg       0.99      0.97      0.98      1881\n",
                        "weighted avg       0.98      0.98      0.98      1881\n",
                        "\n",
                        "\n",
                        "Accuracy: 0.9835\n",
                        "Precision: 0.9836\n",
                        "Recall: 0.9835\n",
                        "F1 Score: 0.9835\n"
                    ]
                }
            ],
            "source": [
                "samples5 = get_samples(file_ids5, chunk_size=50, overlap=10)\n",
                "print(f\"Samples: {samples5[:2]}\")\n",
                "embeddings5, labels5, author_to_idx5 = transformer_prepare_data(samples5)\n",
                "print(f\"Embeddings shape: {embeddings5.shape}\")\n",
                "print(f\"Labels shape: {labels5.shape}\")\n",
                "print(f\"Author to index mapping: {author_to_idx5}\")\n",
                "\n",
                "t_model5 = transformer_train(embeddings5, labels5)"
            ]
        },
        {
            "cell_type": "code",
            "execution_count": null,
            "metadata": {},
            "outputs": [],
            "source": [
                "t_predictions5 = transformer_predict(t_model5, embeddings5, author_to_idx5)"
            ]
        },
        {
            "cell_type": "markdown",
            "metadata": {},
            "source": [
                "##### Set 6\n",
                "- austen-sense.txt\n",
                "- edgeworth-parents.txt\n",
                "- whitman-leaves.txt"
            ]
        },
        {
            "cell_type": "code",
            "execution_count": null,
            "metadata": {},
            "outputs": [
                {
                    "name": "stdout",
                    "output_type": "stream",
                    "text": [
                        "Samples: [('[ Sense and Sensibility by Jane Austen 1811 ] CHAPTER 1 The family of Dashwood had long been settled in Sussex . Their estate was large , and their residence was at Norland Park , in the centre of their property , where , for many generations , they had', 'austen-sense.txt'), ('property , where , for many generations , they had lived in so respectable a manner as to engage the general good opinion of their surrounding acquaintance . The late owner of this estate was a single man , who lived to a very advanced age , and who for', 'austen-sense.txt')]\n",
                        "Embeddings shape: (12505, 768)\n",
                        "Labels shape: torch.Size([12505])\n",
                        "Author to index mapping: {'austen-sense.txt': 0, 'edgeworth-parents.txt': 1, 'whitman-leaves.txt': 2}\n"
                    ]
                }
            ],
            "source": [
                "samples6 = get_samples(file_ids6, chunk_size=50, overlap=10)\n",
                "print(f\"Samples: {samples6[:2]}\")\n",
                "embeddings6, labels6, author_to_idx6 = transformer_prepare_data(samples6)\n",
                "print(f\"Embeddings shape: {embeddings6.shape}\")\n",
                "print(f\"Labels shape: {labels6.shape}\")\n",
                "print(f\"Author to index mapping: {author_to_idx6}\")"
            ]
        },
        {
            "cell_type": "code",
            "execution_count": null,
            "metadata": {},
            "outputs": [
                {
                    "name": "stdout",
                    "output_type": "stream",
                    "text": [
                        "\n",
                        "Transformer Model Performance:\n",
                        "\n",
                        "Confusion Matrix:\n",
                        "[[644  60   3]\n",
                        " [ 63 979   4]\n",
                        " [  1   2 745]]\n",
                        "\n",
                        "Classification Report:\n",
                        "              precision    recall  f1-score   support\n",
                        "\n",
                        "           0       0.91      0.91      0.91       707\n",
                        "           1       0.94      0.94      0.94      1046\n",
                        "           2       0.99      1.00      0.99       748\n",
                        "\n",
                        "    accuracy                           0.95      2501\n",
                        "   macro avg       0.95      0.95      0.95      2501\n",
                        "weighted avg       0.95      0.95      0.95      2501\n",
                        "\n",
                        "\n",
                        "Accuracy: 0.9468\n",
                        "Precision: 0.9468\n",
                        "Recall: 0.9468\n",
                        "F1 Score: 0.9468\n"
                    ]
                }
            ],
            "source": [
                "t_model6 = transformer_train(embeddings6, labels6)"
            ]
        },
        {
            "cell_type": "code",
            "execution_count": null,
            "metadata": {},
            "outputs": [],
            "source": [
                "t_predictions6 = transformer_predict(t_model6, embeddings6, author_to_idx6)"
            ]
        },
        {
            "cell_type": "markdown",
            "metadata": {
                "id": "azhFThGyO1RY"
            },
            "source": [
                "### Evaluate\n",
                "\n",
                "This section evaluates and compares the performance of feature-based and transformer-based models for author attribution. It automates the analysis of predictions from both models, focusing on accuracy, model agreement, and identifying instances of disagreement. Additionally, metrics such as accuracy, precision, recall, F1-score, and confusion matrices from the training runs are manually contrasted to provide a comprehensive comparison between the two approaches."
            ]
        },
        {
            "cell_type": "markdown",
            "metadata": {},
            "source": [
                "#### Comparing Predictions to Ground Truth\n",
                "Evaluates the predictions of feature-based and transformer-based models against true labels. It calculates accuracy, model agreement, and confusion matrices, visualizes results, and identifies cases of disagreement. Additionally, it provides per-author metrics and highlights examples where the models differ."
            ]
        },
        {
            "cell_type": "code",
            "execution_count": 100,
            "metadata": {
                "id": "uFoc73LRgM5j"
            },
            "outputs": [],
            "source": [
                "def compare_predictions(feature_preds, transformer_pred_tuple, true_labels, author_to_idx, samples=None):\n",
                "    \"\"\"\n",
                "    Compare predictions from feature-based and transformer-based models.\n",
                "\n",
                "    Args:\n",
                "        feature_preds: Predictions from feature-based model (indices)\n",
                "        transformer_pred_tuple: Tuple of (predicted_authors, predicted_indices) from transformer_predict()\n",
                "        true_labels: Ground truth labels (indices)\n",
                "        author_to_idx: Mapping from author names to indices\n",
                "        samples: Optional list of (text, author) tuples for showing example disagreements\n",
                "\n",
                "    Returns:\n",
                "        Dictionary with comparison metrics\n",
                "    \"\"\"\n",
                "\n",
                "    # Extract transformer prediction components\n",
                "    transformer_authors, transformer_indices = transformer_pred_tuple\n",
                "\n",
                "    # Convert true_labels to numpy array if it's a tensor\n",
                "    if isinstance(true_labels, torch.Tensor):\n",
                "        true_labels = true_labels.cpu().numpy()\n",
                "\n",
                "    # Ensure inputs have matching length\n",
                "    n = min(len(feature_preds), len(transformer_indices), len(true_labels))\n",
                "    if samples:\n",
                "        n = min(n, len(samples))\n",
                "\n",
                "    # Slice all inputs to common length\n",
                "    feature_preds = feature_preds[:n]\n",
                "    transformer_indices = transformer_indices[:n]\n",
                "    true_labels = true_labels[:n]\n",
                "\n",
                "    # Calculate accuracy\n",
                "    feature_accuracy = accuracy_score(true_labels, feature_preds)\n",
                "    transformer_accuracy = accuracy_score(true_labels, transformer_indices)\n",
                "\n",
                "    # Calculate agreement between models\n",
                "    agreement = np.mean(feature_preds == transformer_indices)\n",
                "\n",
                "    # Print comparison results\n",
                "    print(\"\\nModel Comparison Results:\")\n",
                "    print(f\"Feature-based model accuracy: {feature_accuracy:.4f}\")\n",
                "    print(f\"Transformer-based model accuracy: {transformer_accuracy:.4f}\")\n",
                "    print(f\"Agreement between models: {agreement:.4f}\")\n",
                "\n",
                "    # Generate confusion matrices\n",
                "    feature_cm = confusion_matrix(true_labels, feature_preds)\n",
                "    transformer_cm = confusion_matrix(true_labels, transformer_indices)\n",
                "\n",
                "    # Get author names for visualization\n",
                "    idx_to_author = {idx: author.split('-')[0] for author, idx in author_to_idx.items()}\n",
                "    class_names = [idx_to_author[i] for i in range(len(author_to_idx))]\n",
                "\n",
                "    # Plot confusion matrices side by side\n",
                "    fig, (ax1, ax2) = plt.subplots(1, 2, figsize=(16, 6))\n",
                "\n",
                "    # Plot feature-based confusion matrix\n",
                "    sns.heatmap(feature_cm, annot=True, fmt='d', cmap='Blues',\n",
                "                xticklabels=class_names, yticklabels=class_names, ax=ax1)\n",
                "    ax1.set_title('Feature-based Model Confusion Matrix')\n",
                "    ax1.set_xlabel('Predicted Author')\n",
                "    ax1.set_ylabel('True Author')\n",
                "\n",
                "    # Plot transformer-based confusion matrix\n",
                "    sns.heatmap(transformer_cm, annot=True, fmt='d', cmap='Blues',\n",
                "                xticklabels=class_names, yticklabels=class_names, ax=ax2)\n",
                "    ax2.set_title('Transformer-based Model Confusion Matrix')\n",
                "    ax2.set_xlabel('Predicted Author')\n",
                "    ax2.set_ylabel('True Author')\n",
                "\n",
                "    plt.tight_layout()\n",
                "    plt.show()\n",
                "\n",
                "    # Find examples where models disagree\n",
                "    disagreement_indices = np.where(feature_preds != transformer_indices)[0]\n",
                "\n",
                "    if len(disagreement_indices) > 0 and samples:\n",
                "        print(f\"\\nFound {len(disagreement_indices)} examples where models disagree.\")\n",
                "\n",
                "        # Display a few example disagreements\n",
                "        sample_size = min(5, len(disagreement_indices))\n",
                "        sample_indices = disagreement_indices[:sample_size]\n",
                "\n",
                "        print(\"\\nExample disagreements:\")\n",
                "        for i, idx in enumerate(sample_indices):\n",
                "            true_author = idx_to_author[true_labels[idx]]\n",
                "            feature_pred = idx_to_author[feature_preds[idx]]\n",
                "            transformer_pred = idx_to_author[transformer_indices[idx]]\n",
                "\n",
                "            print(f\"\\nExample {i+1}:\")\n",
                "            if samples:\n",
                "                text = samples[idx][0]\n",
                "                print(f\"Text snippet: {text[:100]}...\")\n",
                "            print(f\"True author: {true_author}\")\n",
                "            print(f\"Feature-based prediction: {feature_pred}\")\n",
                "            print(f\"Transformer-based prediction: {transformer_pred}\")\n",
                "\n",
                "    # Compute metrics by author\n",
                "    metrics = {}\n",
                "    for i, author in idx_to_author.items():\n",
                "        author_indices = np.where(true_labels == i)[0]\n",
                "        if len(author_indices) > 0:\n",
                "            feature_correct = np.mean(feature_preds[author_indices] == true_labels[author_indices])\n",
                "            transformer_correct = np.mean(transformer_indices[author_indices] == true_labels[author_indices])\n",
                "            metrics[author] = {\n",
                "                'feature_accuracy': feature_correct,\n",
                "                'transformer_accuracy': transformer_correct,\n",
                "                'samples': len(author_indices)\n",
                "            }\n",
                "\n",
                "    # Print per-author metrics\n",
                "    print(\"\\nPer-author accuracy:\")\n",
                "    for author, author_metrics in metrics.items():\n",
                "        print(f\"{author}: Feature={author_metrics['feature_accuracy']:.4f}, \" +\n",
                "              f\"Transformer={author_metrics['transformer_accuracy']:.4f}, \" +\n",
                "              f\"Samples={author_metrics['samples']}\")\n",
                "\n",
                "    return {\n",
                "        'feature_accuracy': feature_accuracy,\n",
                "        'transformer_accuracy': transformer_accuracy,\n",
                "        'model_agreement': agreement,\n",
                "        'feature_cm': feature_cm,\n",
                "        'transformer_cm': transformer_cm,\n",
                "        'disagreement_indices': disagreement_indices,\n",
                "        'author_metrics': metrics\n",
                "    }"
            ]
        },
        {
            "cell_type": "markdown",
            "metadata": {},
            "source": [
                "##### Set 1\n",
                "- austen-emma.txt\n",
                "- chesterton-brown.txt\n",
                "- shakespeare-hamlet.txt"
            ]
        },
        {
            "cell_type": "code",
            "execution_count": null,
            "metadata": {},
            "outputs": [
                {
                    "name": "stdout",
                    "output_type": "stream",
                    "text": [
                        "\n",
                        "Model Comparison Results:\n",
                        "Feature-based model accuracy: 0.8183\n",
                        "Transformer-based model accuracy: 0.9950\n",
                        "Agreement between models: 0.8178\n"
                    ]
                },
                {
                    "data": {
                        "image/png": "[encoded data removed]",
                        "text/plain": [
                            "<Figure size 1600x600 with 4 Axes>"
                        ]
                    },
                    "metadata": {},
                    "output_type": "display_data"
                },
                {
                    "name": "stdout",
                    "output_type": "stream",
                    "text": [
                        "\n",
                        "Found 1429 examples where models disagree.\n",
                        "\n",
                        "Example disagreements:\n",
                        "\n",
                        "Example 1:\n",
                        "Text snippet: [ Emma by Jane Austen 1816 ] VOLUME I CHAPTER I Emma Woodhouse , handsome , clever , and rich , with...\n",
                        "True author: austen\n",
                        "Feature-based prediction: chesterton\n",
                        "Transformer-based prediction: austen\n",
                        "\n",
                        "Example 2:\n",
                        "Text snippet: and how nursed her through the various illnesses of childhood . A large debt of gratitude was owing ...\n",
                        "True author: austen\n",
                        "Feature-based prediction: chesterton\n",
                        "Transformer-based prediction: austen\n",
                        "\n",
                        "Example 3:\n",
                        "Text snippet: and who had such an affection for her as could never find fault . How was she to bear the change ? -...\n",
                        "True author: austen\n",
                        "Feature-based prediction: chesterton\n",
                        "Transformer-based prediction: austen\n",
                        "\n",
                        "Example 4:\n",
                        "Text snippet: was aware that great must be the difference between a Mrs. Weston , only half a mile from them , and...\n",
                        "True author: austen\n",
                        "Feature-based prediction: chesterton\n",
                        "Transformer-based prediction: austen\n",
                        "\n",
                        "Example 5:\n",
                        "Text snippet: thought of your walking . We must go in the carriage , to be sure . '' `` The carriage ! But James w...\n",
                        "True author: austen\n",
                        "Feature-based prediction: chesterton\n",
                        "Transformer-based prediction: austen\n",
                        "\n",
                        "Per-author accuracy:\n",
                        "austen: Feature=0.9218, Transformer=0.9971, Samples=4796\n",
                        "chesterton: Feature=0.5684, Transformer=0.9892, Samples=2136\n",
                        "shakespeare: Feature=0.8593, Transformer=0.9978, Samples=910\n"
                    ]
                }
            ],
            "source": [
                "compare1 = compare_predictions(\n",
                "    feature_preds=predictions1,\n",
                "    transformer_pred_tuple=t_predictions1,\n",
                "    true_labels=labels1,\n",
                "    author_to_idx=author_to_idx1,\n",
                "    samples=samples1\n",
                ")"
            ]
        },
        {
            "cell_type": "markdown",
            "metadata": {},
            "source": [
                "##### Set 2\n",
                "- bible-kjv.txt\n",
                "- blake-poems.txt\n",
                "- bryant-stories.txt"
            ]
        },
        {
            "cell_type": "code",
            "execution_count": null,
            "metadata": {},
            "outputs": [
                {
                    "name": "stdout",
                    "output_type": "stream",
                    "text": [
                        "\n",
                        "Model Comparison Results:\n",
                        "Feature-based model accuracy: 0.9933\n",
                        "Transformer-based model accuracy: 0.9997\n",
                        "Agreement between models: 0.9932\n"
                    ]
                },
                {
                    "data": {
                        "image/png": "[encoded data removed]",
                        "text/plain": [
                            "<Figure size 1600x600 with 4 Axes>"
                        ]
                    },
                    "metadata": {},
                    "output_type": "display_data"
                },
                {
                    "name": "stdout",
                    "output_type": "stream",
                    "text": [
                        "\n",
                        "Found 173 examples where models disagree.\n",
                        "\n",
                        "Example disagreements:\n",
                        "\n",
                        "Example 1:\n",
                        "Text snippet: lords , turn in , I pray you , into your servant 's house , and tarry all night , and wash your feet...\n",
                        "True author: bible\n",
                        "Feature-based prediction: bryant\n",
                        "Transformer-based prediction: bible\n",
                        "\n",
                        "Example 2:\n",
                        "Text snippet: he said , Is not he rightly named Jacob ? for he hath supplanted me these two times : he took away m...\n",
                        "True author: bible\n",
                        "Feature-based prediction: bryant\n",
                        "Transformer-based prediction: bible\n",
                        "\n",
                        "Example 3:\n",
                        "Text snippet: And they said , The man asked us straitly of our state , and of our kindred , saying , Is your fathe...\n",
                        "True author: bible\n",
                        "Feature-based prediction: bryant\n",
                        "Transformer-based prediction: bible\n",
                        "\n",
                        "Example 4:\n",
                        "Text snippet: Happy art thou , O Israel : who is like unto thee , O people saved by the LORD , the shield of thy h...\n",
                        "True author: bible\n",
                        "Feature-based prediction: blake\n",
                        "Transformer-based prediction: bible\n",
                        "\n",
                        "Example 5:\n",
                        "Text snippet: Jael Heber 's wife took a nail of the tent , and took an hammer in her hand , and went softly unto h...\n",
                        "True author: bible\n",
                        "Feature-based prediction: bryant\n",
                        "Transformer-based prediction: bible\n",
                        "\n",
                        "Per-author accuracy:\n",
                        "bible: Feature=0.9978, Transformer=0.9999, Samples=23674\n",
                        "blake: Feature=0.6537, Transformer=0.9854, Samples=205\n",
                        "bryant: Feature=0.9662, Transformer=0.9978, Samples=1390\n"
                    ]
                }
            ],
            "source": [
                "compare2 = compare_predictions(\n",
                "    feature_preds=predictions2,\n",
                "    transformer_pred_tuple=t_predictions2,\n",
                "    true_labels=labels2,\n",
                "    author_to_idx=author_to_idx2,\n",
                "    samples=samples2\n",
                ")"
            ]
        },
        {
            "cell_type": "markdown",
            "metadata": {},
            "source": [
                "##### Set 3\n",
                "- burgess-busterbrown.txt\n",
                "- carroll-alice.txt\n",
                "- chesterton-ball.txt"
            ]
        },
        {
            "cell_type": "code",
            "execution_count": null,
            "metadata": {},
            "outputs": [
                {
                    "name": "stdout",
                    "output_type": "stream",
                    "text": [
                        "\n",
                        "Model Comparison Results:\n",
                        "Feature-based model accuracy: 0.8299\n",
                        "Transformer-based model accuracy: 0.9965\n",
                        "Agreement between models: 0.8277\n"
                    ]
                },
                {
                    "data": {
                        "image/png": "[encoded data removed]",
                        "text/plain": [
                            "<Figure size 1600x600 with 4 Axes>"
                        ]
                    },
                    "metadata": {},
                    "output_type": "display_data"
                },
                {
                    "name": "stdout",
                    "output_type": "stream",
                    "text": [
                        "\n",
                        "Found 632 examples where models disagree.\n",
                        "\n",
                        "Example disagreements:\n",
                        "\n",
                        "Example 1:\n",
                        "Text snippet: [ The Adventures of Buster Bear by Thornton W. Burgess 1920 ] I BUSTER BEAR GOES FISHING Buster Bear...\n",
                        "True author: burgess\n",
                        "Feature-based prediction: carroll\n",
                        "Transformer-based prediction: burgess\n",
                        "\n",
                        "Example 2:\n",
                        "Text snippet: as high up on the trunk of the tree as he could , and scratched the bark with his great claws . Afte...\n",
                        "True author: burgess\n",
                        "Feature-based prediction: chesterton\n",
                        "Transformer-based prediction: burgess\n",
                        "\n",
                        "Example 3:\n",
                        "Text snippet: to think what he wanted for breakfast . While he sat there , trying to make up his mind what would t...\n",
                        "True author: burgess\n",
                        "Feature-based prediction: chesterton\n",
                        "Transformer-based prediction: burgess\n",
                        "\n",
                        "Example 4:\n",
                        "Text snippet: who live in the Green Forest . He heard Sammy Jay way off in the distance screaming , `` Thief ! Thi...\n",
                        "True author: burgess\n",
                        "Feature-based prediction: chesterton\n",
                        "Transformer-based prediction: burgess\n",
                        "\n",
                        "Example 5:\n",
                        "Text snippet: stolen Sammy 's breakfast , or if he has stolen the breakfast of some one else . Probably he is the ...\n",
                        "True author: burgess\n",
                        "Feature-based prediction: chesterton\n",
                        "Transformer-based prediction: burgess\n",
                        "\n",
                        "Per-author accuracy:\n",
                        "burgess: Feature=0.5905, Transformer=0.9914, Samples=464\n",
                        "carroll: Feature=0.6862, Transformer=0.9893, Samples=838\n",
                        "chesterton: Feature=0.9278, Transformer=1.0000, Samples=2367\n"
                    ]
                }
            ],
            "source": [
                "compare3 = compare_predictions(\n",
                "    feature_preds=predictions3,\n",
                "    transformer_pred_tuple=t_predictions3,\n",
                "    true_labels=labels3,\n",
                "    author_to_idx=author_to_idx3,\n",
                "    samples=samples3\n",
                ")"
            ]
        },
        {
            "cell_type": "markdown",
            "metadata": {},
            "source": [
                "##### Set 4\n",
                "- austen-persuasion.txt\n",
                "- chesterton-thursday.txt\n",
                "- shakespeare-macbeth.txt"
            ]
        },
        {
            "cell_type": "code",
            "execution_count": null,
            "metadata": {},
            "outputs": [
                {
                    "name": "stdout",
                    "output_type": "stream",
                    "text": [
                        "\n",
                        "Model Comparison Results:\n",
                        "Feature-based model accuracy: 0.8206\n",
                        "Transformer-based model accuracy: 0.9954\n",
                        "Agreement between models: 0.8208\n"
                    ]
                },
                {
                    "data": {
                        "image/png": "[encoded data removed]",
                        "text/plain": [
                            "<Figure size 1600x600 with 4 Axes>"
                        ]
                    },
                    "metadata": {},
                    "output_type": "display_data"
                },
                {
                    "name": "stdout",
                    "output_type": "stream",
                    "text": [
                        "\n",
                        "Found 849 examples where models disagree.\n",
                        "\n",
                        "Example disagreements:\n",
                        "\n",
                        "Example 1:\n",
                        "Text snippet: at fifty-four , was still a very fine man . Few women could think more of their personal appearance ...\n",
                        "True author: austen\n",
                        "Feature-based prediction: chesterton\n",
                        "Transformer-based prediction: austen\n",
                        "\n",
                        "Example 2:\n",
                        "Text snippet: in society . He considered the blessing of beauty as inferior only to the blessing of a baronetcy ; ...\n",
                        "True author: austen\n",
                        "Feature-based prediction: chesterton\n",
                        "Transformer-based prediction: austen\n",
                        "\n",
                        "Example 3:\n",
                        "Text snippet: the rest of his family and acquaintance were growing . Anne haggard , Mary coarse , every face in th...\n",
                        "True author: austen\n",
                        "Feature-based prediction: chesterton\n",
                        "Transformer-based prediction: austen\n",
                        "\n",
                        "Example 4:\n",
                        "Text snippet: the table near her , had she closed it , with averted eyes , and pushed it away . She had had a disa...\n",
                        "True author: austen\n",
                        "Feature-based prediction: chesterton\n",
                        "Transformer-based prediction: austen\n",
                        "\n",
                        "Example 5:\n",
                        "Text snippet: must ever present the remembrance of . The heir presumptive , the very William Walter Elliot , Esq. ...\n",
                        "True author: austen\n",
                        "Feature-based prediction: chesterton\n",
                        "Transformer-based prediction: austen\n",
                        "\n",
                        "Per-author accuracy:\n",
                        "austen: Feature=0.8705, Transformer=0.9935, Samples=2448\n",
                        "chesterton: Feature=0.7205, Transformer=0.9965, Samples=1735\n",
                        "shakespeare: Feature=0.9137, Transformer=1.0000, Samples=556\n"
                    ]
                }
            ],
            "source": [
                "compare4 = compare_predictions(\n",
                "    feature_preds=predictions4,\n",
                "    transformer_pred_tuple=t_predictions4,\n",
                "    true_labels=labels4,\n",
                "    author_to_idx=author_to_idx4,\n",
                "    samples=samples4\n",
                ")"
            ]
        },
        {
            "cell_type": "markdown",
            "metadata": {},
            "source": [
                "##### Set 5\n",
                "- melville-moby_dick.txt\n",
                "- milton-paradise.txt\n",
                "- shakespeare-caesar.txt"
            ]
        },
        {
            "cell_type": "code",
            "execution_count": null,
            "metadata": {},
            "outputs": [
                {
                    "name": "stdout",
                    "output_type": "stream",
                    "text": [
                        "\n",
                        "Model Comparison Results:\n",
                        "Feature-based model accuracy: 0.9418\n",
                        "Transformer-based model accuracy: 0.9967\n",
                        "Agreement between models: 0.9394\n"
                    ]
                },
                {
                    "data": {
                        "image/png": "[encoded data removed]",
                        "text/plain": [
                            "<Figure size 1600x600 with 4 Axes>"
                        ]
                    },
                    "metadata": {},
                    "output_type": "display_data"
                },
                {
                    "name": "stdout",
                    "output_type": "stream",
                    "text": [
                        "\n",
                        "Found 570 examples where models disagree.\n",
                        "\n",
                        "Example disagreements:\n",
                        "\n",
                        "Example 1:\n",
                        "Text snippet: by many nations and generations , including our own . So fare thee well , poor devil of a Sub-Sub , ...\n",
                        "True author: melville\n",
                        "Feature-based prediction: milton\n",
                        "Transformer-based prediction: melville\n",
                        "\n",
                        "Example 2:\n",
                        "Text snippet: who have gone before are clearing out the seven-storied heavens , and making refugees of long-pamper...\n",
                        "True author: melville\n",
                        "Feature-based prediction: milton\n",
                        "Transformer-based prediction: melville\n",
                        "\n",
                        "Example 3:\n",
                        "Text snippet: In that day , the Lord with his sore , and great , and strong sword , shall punish Leviathan the pie...\n",
                        "True author: melville\n",
                        "Feature-based prediction: shakespeare\n",
                        "Transformer-based prediction: melville\n",
                        "\n",
                        "Example 4:\n",
                        "Text snippet: sea . '' -- ISAIAH `` And what thing soever besides cometh within the chaos of this monster 's mouth...\n",
                        "True author: melville\n",
                        "Feature-based prediction: milton\n",
                        "Transformer-based prediction: melville\n",
                        "\n",
                        "Example 5:\n",
                        "Text snippet: to secure , no skill of leach 's art Mote him availle , but to returne againe To his wound 's worker...\n",
                        "True author: melville\n",
                        "Feature-based prediction: milton\n",
                        "Transformer-based prediction: melville\n",
                        "\n",
                        "Per-author accuracy:\n",
                        "melville: Feature=0.9679, Transformer=0.9984, Samples=6380\n",
                        "milton: Feature=0.9143, Transformer=0.9946, Samples=2392\n",
                        "shakespeare: Feature=0.7829, Transformer=0.9873, Samples=631\n"
                    ]
                }
            ],
            "source": [
                "compare5 = compare_predictions(\n",
                "    feature_preds=predictions5,\n",
                "    transformer_pred_tuple=t_predictions5,\n",
                "    true_labels=labels5,\n",
                "    author_to_idx=author_to_idx5,\n",
                "    samples=samples5\n",
                ")"
            ]
        },
        {
            "cell_type": "markdown",
            "metadata": {},
            "source": [
                "##### Set 6\n",
                "- austen-sense.txt\n",
                "- edgeworth-parents.txt\n",
                "- whitman-leaves.txt"
            ]
        },
        {
            "cell_type": "code",
            "execution_count": null,
            "metadata": {},
            "outputs": [
                {
                    "name": "stdout",
                    "output_type": "stream",
                    "text": [
                        "\n",
                        "Model Comparison Results:\n",
                        "Feature-based model accuracy: 0.7821\n",
                        "Transformer-based model accuracy: 0.9894\n",
                        "Agreement between models: 0.7809\n"
                    ]
                },
                {
                    "data": {
                        "image/png": "[encoded data removed]",
                        "text/plain": [
                            "<Figure size 1600x600 with 4 Axes>"
                        ]
                    },
                    "metadata": {},
                    "output_type": "display_data"
                },
                {
                    "name": "stdout",
                    "output_type": "stream",
                    "text": [
                        "\n",
                        "Found 2740 examples where models disagree.\n",
                        "\n",
                        "Example disagreements:\n",
                        "\n",
                        "Example 1:\n",
                        "Text snippet: [ Sense and Sensibility by Jane Austen 1811 ] CHAPTER 1 The family of Dashwood had long been settled...\n",
                        "True author: austen\n",
                        "Feature-based prediction: edgeworth\n",
                        "Transformer-based prediction: austen\n",
                        "\n",
                        "Example 2:\n",
                        "Text snippet: great alteration in his home ; for to supply her loss , he invited and received into his house the f...\n",
                        "True author: austen\n",
                        "Feature-based prediction: whitman\n",
                        "Transformer-based prediction: austen\n",
                        "\n",
                        "Example 3:\n",
                        "Text snippet: whom he intended to bequeath it . In the society of his nephew and niece , and their children , the ...\n",
                        "True author: austen\n",
                        "Feature-based prediction: edgeworth\n",
                        "Transformer-based prediction: austen\n",
                        "\n",
                        "Example 4:\n",
                        "Text snippet: children added a relish to his existence . By a former marriage , Mr. Henry Dashwood had one son : b...\n",
                        "True author: austen\n",
                        "Feature-based prediction: edgeworth\n",
                        "Transformer-based prediction: austen\n",
                        "\n",
                        "Example 5:\n",
                        "Text snippet: the sake of his wife and daughters than for himself or his son ; -- but to his son , and his son 's ...\n",
                        "True author: austen\n",
                        "Feature-based prediction: edgeworth\n",
                        "Transformer-based prediction: austen\n",
                        "\n",
                        "Per-author accuracy:\n",
                        "austen: Feature=0.6628, Transformer=0.9822, Samples=3535\n",
                        "edgeworth: Feature=0.7968, Transformer=0.9872, Samples=5232\n",
                        "whitman: Feature=0.8743, Transformer=0.9992, Samples=3738\n"
                    ]
                }
            ],
            "source": [
                "compare6 = compare_predictions(\n",
                "    feature_preds=predictions6,\n",
                "    transformer_pred_tuple=t_predictions6,\n",
                "    true_labels=labels6,\n",
                "    author_to_idx=author_to_idx6,\n",
                "    samples=samples6\n",
                ")"
            ]
        },
        {
            "cell_type": "markdown",
            "metadata": {},
            "source": [
                "#### Comparing Metrics\n",
                "\n",
                "A comprehensive evaluation of the two approaches is conducted by calculating and analyzing key performance metrics, including accuracy, precision, recall, F1-score, and confusion matrices. This comparison provides a detailed understanding of the strengths and limitations of each method in the context of author attribution."
            ]
        },
        {
            "cell_type": "markdown",
            "metadata": {},
            "source": [
                "##### Set 1\n",
                "- austen-emma.txt = 0\n",
                "- chesterton-brown.txt = 1\n",
                "- shakespeare-hamlet.txt = 2"
            ]
        },
        {
            "cell_type": "markdown",
            "metadata": {},
            "source": [
                "**Performance**\n",
                "\n",
                "|                 | Precision (Feature)  | Precision (Transformer) | Recall (Feature)  | Recall (Transformer) | F1-Score (Feature) | F1-Score (Transformer) | Support (Feature) | Support (Transformer) |\n",
                "|-----------------|----------------------|--------------------------|-------------------|-----------------------|--------------------|------------------------|-------------------|-----------------------|\n",
                "| 0          | 0.79                 | 0.98                     | 0.90              | 0.99                  | 0.84               | 0.98                   | 946               | 960                   |\n",
                "| 1      | 0.74                 | 0.96                     | 0.53              | 0.95                  | 0.62               | 0.96                   | 439               | 427                   |\n",
                "| 2     | 0.84                 | 0.99                     | 0.81              | 0.99                  | 0.83               | 0.99                   | 184               | 182                   |\n",
                "| **Accuracy**    |                      |                          |                   |                       | 0.78               | 0.98                   | 1569              | 1569                  |\n",
                "| **Macro Avg**   | 0.79                 | 0.98                     | 0.75              | 0.97                  | 0.76               | 0.98                   | 1569              | 1569                  |\n",
                "| **Weighted Avg**| 0.78                 | 0.98                     | 0.78              | 0.98                  | 0.78               | 0.98                   | 1569              | 1569                  |\n",
                "\n",
                "**Combined Confusion Matrix**\n",
                "|     | 0 (Feature) | 0 (Transformer) | 1 (Feature) | 1 (Transformer) | 2 (Feature) | 2 (Transformer) |\n",
                "|-----|-------------|-----------------|-------------|-----------------|-------------|-----------------|\n",
                "| 0   | 849         | 946             | 79          | 13              | 18          | 1               |\n",
                "| 1   | 196         | 23              | 233         | 404             | 10          | 0               |\n",
                "| 2   | 33          | 0               | 2           | 2               | 149         | 180             |"
            ]
        },
        {
            "cell_type": "markdown",
            "metadata": {},
            "source": [
                "##### Set 2\n",
                "- bible-kjv.txt = 0\n",
                "- blake-poems.txt = 1\n",
                "- bryant-stories.txt = 2"
            ]
        },
        {
            "cell_type": "markdown",
            "metadata": {},
            "source": [
                "**Performance**\n",
                "\n",
                "|                 | Precision (Feature)  | Precision (Transformer) | Recall (Feature)  | Recall (Transformer) | F1-Score (Feature) | F1-Score (Transformer) | Support (Feature) | Support (Transformer) |\n",
                "|-----------------|----------------------|--------------------------|-------------------|-----------------------|--------------------|------------------------|-------------------|-----------------------|\n",
                "| 0               | 1.00                 | 1.00                     | 1.00              | 1.00                  | 1.00               | 1.00                   | 4727              | 4735                  |\n",
                "| 1               | 0.68                 | 0.93                     | 0.39              | 0.93                  | 0.49               | 0.93                   | 44                | 41                    |\n",
                "| 2               | 0.91                 | 0.99                     | 0.95              | 0.99                  | 0.93               | 0.99                   | 283               | 278                   |\n",
                "| **Accuracy**    |                      |                          |                   |                       | 0.99               | 1.00                   | 5054              | 5054                  |\n",
                "| **Macro Avg**   | 0.86                 | 0.97                     | 0.78              | 0.97                  | 0.81               | 0.97                   | 5054              | 5054                  |\n",
                "| **Weighted Avg**| 0.99                 | 1.00                     | 0.99              | 1.00                  | 0.99               | 1.00                   | 5054              | 5054                  |\n",
                "\n",
                "**Confusion Matrix**\n",
                "|     | 0 (Feature) | 0 (Transformer) | 1 (Feature) | 1 (Transformer) | 2 (Feature) | 2 (Transformer) |\n",
                "|-----|-------------|-----------------|-------------|-----------------|-------------|-----------------|\n",
                "| 0   | 4720        | 4733            | 1           | 2               | 6           | 0               |\n",
                "| 1   | 5           | 1               | 17          | 38              | 22          | 2               |\n",
                "| 2   | 7           | 2               | 7           | 1               | 269         | 275             |"
            ]
        },
        {
            "cell_type": "markdown",
            "metadata": {},
            "source": [
                "##### Set 3\n",
                "- burgess-busterbrown.txt = 0\n",
                "- carroll-alice.txt = 1\n",
                "- chesterton-ball.txt = 2"
            ]
        },
        {
            "cell_type": "markdown",
            "metadata": {},
            "source": [
                "**Performance**\n",
                "\n",
                "|                 | Precision (Feature)  | Precision (Transformer) | Recall (Feature)  | Recall (Transformer) | F1-Score (Feature) | F1-Score (Transformer) | Support (Feature) | Support (Transformer) |\n",
                "|-----------------|----------------------|--------------------------|-------------------|-----------------------|--------------------|------------------------|-------------------|-----------------------|\n",
                "| 0               | 0.79                 | 0.98                     | 0.47              | 0.96                  | 0.59               | 0.97                   | 117               | 93                    |\n",
                "| 1               | 0.72                 | 0.99                     | 0.63              | 0.95                  | 0.67               | 0.97                   | 163               | 168                   |\n",
                "| 2               | 0.79                 | 0.98                     | 0.91              | 1.00                  | 0.84               | 0.99                   | 454               | 473                   |\n",
                "| **Accuracy**    |                      |                          |                   |                       | 0.78               | 0.98                   | 734               | 734                   |\n",
                "| **Macro Avg**   | 0.76                 | 0.98                     | 0.67              | 0.97                  | 0.70               | 0.98                   | 734               | 734                   |\n",
                "| **Weighted Avg**| 0.77                 | 0.98                     | 0.78              | 0.98                  | 0.76               | 0.98                   | 734               | 734                   |\n",
                "\n",
                "**Confusion Matrix**\n",
                "\n",
                "|     | 0 (Feature) | 0 (Transformer) | 1 (Feature) | 1 (Transformer) | 2 (Feature) | 2 (Transformer) |\n",
                "|-----|-------------|-----------------|-------------|-----------------|-------------|-----------------|\n",
                "| 0   | 55          | 89              | 10          | 1               | 52          | 3               |\n",
                "| 1   | 3           | 2               | 103         | 159             | 57          | 7               |\n",
                "| 2   | 12          | 0               | 31          | 0               | 411         | 473             |\n"
            ]
        },
        {
            "cell_type": "markdown",
            "metadata": {},
            "source": [
                "##### Set 4\n",
                "- austen-persuasion.txt = 0\n",
                "- chesterton-thursday.txt = 1\n",
                "- shakespeare-macbeth.txt = 2"
            ]
        },
        {
            "cell_type": "markdown",
            "metadata": {},
            "source": [
                "**Performance**\n",
                "\n",
                "|                 | Precision (Feature)  | Precision (Transformer) | Recall (Feature)  | Recall (Transformer) | F1-Score (Feature) | F1-Score (Transformer) | Support (Feature) | Support (Transformer) |\n",
                "|-----------------|----------------------|--------------------------|-------------------|-----------------------|--------------------|------------------------|-------------------|-----------------------|\n",
                "| 0               | 0.77                 | 0.99                     | 0.87              | 0.97                  | 0.81               | 0.98                   | 494               | 490                   |\n",
                "| 1               | 0.78                 | 0.96                     | 0.65              | 0.98                  | 0.71               | 0.97                   | 349               | 347                   |\n",
                "| 2               | 0.94                 | 1.00                     | 0.89              | 1.00                  | 0.91               | 1.00                   | 105               | 111                   |\n",
                "| **Accuracy**    |                      |                          |                   |                       | 0.79               | 0.98                   | 948               | 948                   |\n",
                "| **Macro Avg**   | 0.83                 | 0.98                     | 0.80              | 0.98                  | 0.81               | 0.98                   | 948               | 948                   |\n",
                "| **Weighted Avg**| 0.79                 | 0.98                     | 0.79              | 0.98                  | 0.79               | 0.98                   | 948               | 948                   |\n",
                "\n",
                "**Confusion Matrix**\n",
                "\n",
                "|     | 0 (Feature) | 0 (Transformer) | 1 (Feature) | 1 (Transformer) | 2 (Feature) | 2 (Transformer) |\n",
                "|-----|-------------|-----------------|-------------|-----------------|-------------|-----------------|\n",
                "| 0   | 428         | 474             | 62          | 16              | 4           | 0               |\n",
                "| 1   | 121         | 6               | 226         | 341             | 2           | 0               |\n",
                "| 2   | 10          | 0               | 2           | 0               | 93          | 111             |\n"
            ]
        },
        {
            "cell_type": "markdown",
            "metadata": {},
            "source": [
                "##### Set 5\n",
                "- melville-moby_dick.txt = 0  \n",
                "- milton-paradise.txt = 1  \n",
                "- shakespeare-caesar.txt = 2  "
            ]
        },
        {
            "cell_type": "markdown",
            "metadata": {},
            "source": [
                "**Performance**\n",
                "\n",
                "|                 | Precision (Feature)  | Precision (Transformer) | Recall (Feature)  | Recall (Transformer) | F1-Score (Feature) | F1-Score (Transformer) | Support (Feature) | Support (Transformer) |\n",
                "|-----------------|----------------------|--------------------------|-------------------|-----------------------|--------------------|------------------------|-------------------|-----------------------|\n",
                "| 0               | 0.96                 | 0.99                     | 0.96              | 0.99                  | 0.96               | 0.99                   | 1284              | 1276                  |\n",
                "| 1               | 0.87                 | 0.97                     | 0.90              | 0.97                  | 0.89               | 0.97                   | 477               | 479                   |\n",
                "| 2               | 0.83                 | 1.00                     | 0.71              | 0.94                  | 0.76               | 0.97                   | 120               | 126                   |\n",
                "| **Accuracy**    |                      |                          |                   |                       | 0.93               | 0.98                   | 1881              | 1881                  |\n",
                "| **Macro Avg**   | 0.89                 | 0.99                     | 0.86              | 0.97                  | 0.87               | 0.98                   | 1881              | 1881                  |\n",
                "| **Weighted Avg**| 0.93                 | 0.98                     | 0.93              | 0.98                  | 0.93               | 0.98                   | 1881              | 1881                  |\n",
                "\n",
                "**Confusion Matrix**\n",
                "\n",
                "|     | 0 (Feature) | 0 (Transformer) | 1 (Feature) | 1 (Transformer) | 2 (Feature) | 2 (Transformer) |\n",
                "|-----|-------------|-----------------|-------------|-----------------|-------------|-----------------|\n",
                "| 0   | 1238        | 1266            | 38          | 10              | 8           | 0               |\n",
                "| 1   | 37          | 13              | 430         | 466             | 10          | 0               |\n",
                "| 2   | 11          | 2               | 24          | 6               | 85          | 118             |\n"
            ]
        },
        {
            "cell_type": "markdown",
            "metadata": {},
            "source": [
                "##### Set 6\n",
                "- austen-sense.txt = 0  \n",
                "- edgeworth-parents.txt = 1  \n",
                "- whitman-leaves.txt = 2  "
            ]
        },
        {
            "cell_type": "markdown",
            "metadata": {},
            "source": [
                "**Performance**\n",
                "\n",
                "|                 | Precision (Feature)  | Precision (Transformer) | Recall (Feature)  | Recall (Transformer) | F1-Score (Feature) | F1-Score (Transformer) | Support (Feature) | Support (Transformer) |\n",
                "|-----------------|----------------------|--------------------------|-------------------|-----------------------|--------------------|------------------------|-------------------|-----------------------|\n",
                "| 0               | 0.69                 | 0.91                     | 0.64              | 0.91                  | 0.66               | 0.91                   | 725               | 707                   |\n",
                "| 1               | 0.73                 | 0.94                     | 0.77              | 0.94                  | 0.75               | 0.94                   | 1042              | 1046                  |\n",
                "| 2               | 0.87                 | 0.99                     | 0.86              | 1.00                  | 0.86               | 0.99                   | 734               | 748                   |\n",
                "| **Accuracy**    |                      |                          |                   |                       | 0.76               | 0.95                   | 2501              | 2501                  |\n",
                "| **Macro Avg**   | 0.76                 | 0.95                     | 0.76              | 0.95                  | 0.76               | 0.95                   | 2501              | 2501                  |\n",
                "| **Weighted Avg**| 0.76                 | 0.95                     | 0.76              | 0.95                  | 0.76               | 0.95                   | 2501              | 2501                  |\n",
                "\n",
                "**Confusion Matrix**\n",
                "\n",
                "|     | 0 (Feature) | 0 (Transformer) | 1 (Feature) | 1 (Transformer) | 2 (Feature) | 2 (Transformer) |\n",
                "|-----|-------------|-----------------|-------------|-----------------|-------------|-----------------|\n",
                "| 0   | 462         | 644             | 230         | 60              | 33          | 3               |\n",
                "| 1   | 172         | 63              | 805         | 979             | 65          | 4               |\n",
                "| 2   | 35          | 1               | 66          | 2               | 633         | 745             |\n"
            ]
        }
    ],
    "metadata": {
        "accelerator": "GPU",
        "colab": {
            "gpuType": "L4",
            "provenance": []
        },
        "kernelspec": {
            "display_name": "Python 3",
            "name": "python3"
        },
        "language_info": {
            "codemirror_mode": {
                "name": "ipython",
                "version": 3
            },
            "file_extension": ".py",
            "mimetype": "text/x-python",
            "name": "python",
            "nbconvert_exporter": "python",
            "pygments_lexer": "ipython3",
            "version": "3.11.9"
        }
    },
    "nbformat": 4,
    "nbformat_minor": 0
}